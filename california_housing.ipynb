{
 "cells": [
  {
   "cell_type": "markdown",
   "id": "72567bb9",
   "metadata": {},
   "source": [
    "<div style=\"border:solid green 2px; padding: 20px\">\n",
    "<b>Привет, Андрей!</b>\n",
    "\n",
    "Меня зовут Александр Пономаренко, и я буду проверять твой проект. Предлагаю общаться на «ты» :) Но если это не удобно - дай знать, и мы перейдем на \"вы\". \n",
    "\n",
    "Моя основная цель — не указать на совершенные тобою ошибки, а поделиться своим опытом и помочь тебе стать data science. Ты уже проделал большую работу над проектом, но давай сделаем его еще лучше. Ниже ты найдешь мои комментарии - **пожалуйста, не перемещай, не изменяй и не удаляй их**. Увидев у тебя ошибку, в первый раз я лишь укажу на ее наличие и дам тебе возможность самой найти и исправить ее. На реальной работе твой начальник будет поступать так же, а я пытаюсь подготовить тебя именно к работе аналитиком. Но если ты пока не справишься с такой задачей - при следующей проверке я дам более точную подсказку. Я буду использовать цветовую разметку:\n",
    "\n",
    "<div class=\"alert alert-danger\">\n",
    "<b>Комментарий ревьюера ❌:</b> Так выделены самые важные замечания. Без их отработки проект не будет принят. </div>\n",
    "\n",
    "<div class=\"alert alert-warning\">\n",
    "<b>Комментарий ревьюера ⚠️:</b> Так выделены небольшие замечания. Я надеюсь, что их ты тоже учтешь - твой проект от этого станет только лучше. Но настаивать на их отработке не буду.\n",
    "\n",
    "</div>\n",
    "\n",
    "<div class=\"alert alert-success\">\n",
    "<b>Комментарий ревьюера ✔️:</b> Так я выделяю все остальные комментарии.</div>\n",
    "\n",
    "Давай работать над проектом в диалоге: **если ты что-то меняешь в проекте или отвечаешь на мои комменатри — пиши об этом.** Мне будет легче отследить изменения, если ты выделишь свои комментарии:\n",
    "<div class=\"alert alert-info\"> <b>Комментарий студента:</b> Например, вот так.</div>\n",
    "\n",
    "Всё это поможет выполнить повторную проверку твоего проекта оперативнее. "
   ]
  },
  {
   "cell_type": "markdown",
   "id": "e4f8b2b3",
   "metadata": {
    "id": "GEqQaHzsZ_bA"
   },
   "source": [
    "## Предсказание стоимости жилья\n",
    "\n",
    "В проекте вам нужно обучить модель линейной регрессии на данных о жилье в Калифорнии в 1990 году. На основе данных нужно предсказать медианную стоимость дома в жилом массиве. Обучите модель и сделайте предсказания на тестовой выборке. Для оценки качества модели используйте метрики RMSE, MAE и R2."
   ]
  },
  {
   "cell_type": "markdown",
   "id": "558c72cc",
   "metadata": {},
   "source": [
    "<div class=\"Markdown base-markdown base-markdown_with-gallery markdown markdown_size_normal markdown_type_theory full-markdown\"><h1>Описание проекта</h1><div class=\"paragraph\">В проекте вам нужно обучить модель линейной регрессии на данных о жилье в Калифорнии в 1990 году. С этим датасетом вы уже работали в четвёртой теме курса. </div><div class=\"paragraph\">В колонках датасета содержатся следующие данные:</div><ul><li><code class=\"code-inline code-inline_theme_light\">longitude</code> — широта;</li><li><code class=\"code-inline code-inline_theme_light\">latitude</code> — долгота;</li><li><code class=\"code-inline code-inline_theme_light\">housing_median_age</code> — медианный возраст домов в жилом массиве;</li><li><code class=\"code-inline code-inline_theme_light\">total_rooms</code> — общее количество комнат в домах жилого массива;</li><li><code class=\"code-inline code-inline_theme_light\">total_bedrooms</code> — общее количество спален в домах жилого массива;</li><li><code class=\"code-inline code-inline_theme_light\">population</code> — количество человек, которые проживают в жилом массиве;</li><li><code class=\"code-inline code-inline_theme_light\">households</code> — количество домовладений в жилом массиве;</li><li><code class=\"code-inline code-inline_theme_light\">median_income</code> — медианный доход жителей жилого массива;</li><li><code class=\"code-inline code-inline_theme_light\">median_house_value</code> — медианная стоимость дома в жилом массиве;</li><li><code class=\"code-inline code-inline_theme_light\">ocean_proximity</code> — близость к океану.</li></ul><div class=\"paragraph\">На основе данных нужно предсказать медианную стоимость дома в жилом массиве — <code class=\"code-inline code-inline_theme_light\">median_house_value</code>. Обучите модель и сделайте предсказания на тестовой выборке. Для оценки качества модели используйте метрики RMSE, MAE и R2.</div>"
   ]
  },
  {
   "cell_type": "markdown",
   "id": "2750ff69",
   "metadata": {
    "id": "53871372"
   },
   "source": [
    "## Подготовка данных"
   ]
  },
  {
   "cell_type": "markdown",
   "id": "17ec63f1",
   "metadata": {},
   "source": [
    "### Подключение библиотек, инициализация Spark-сессии"
   ]
  },
  {
   "cell_type": "code",
   "execution_count": 1,
   "id": "1d645462",
   "metadata": {
    "id": "df92e3ec"
   },
   "outputs": [],
   "source": [
    "import pandas as pd \n",
    "import numpy as np\n",
    "\n",
    "import seaborn as sns\n",
    "\n",
    "import pyspark\n",
    "from pyspark.sql import SparkSession\n",
    "from pyspark.sql.types import *\n",
    "import pyspark.sql.functions as F\n",
    "\n",
    "from pyspark.ml.feature import StringIndexer, VectorAssembler, StandardScaler\n",
    "from pyspark.ml.stat import Correlation\n",
    "from pyspark.ml.feature import OneHotEncoder\n",
    "from pyspark.ml.regression import LinearRegression\n",
    "from pyspark.mllib.evaluation import RegressionMetrics\n",
    "\n",
    "RANDOM_SEED = 42\n",
    "pd.set_option('display.float_format', lambda x: '%.3f' % x)"
   ]
  },
  {
   "cell_type": "code",
   "execution_count": 2,
   "id": "50820c13",
   "metadata": {},
   "outputs": [],
   "source": [
    "spark = SparkSession.builder \\\n",
    "                    .master(\"local\") \\\n",
    "                    .appName(\"California Housing\") \\\n",
    "                    .getOrCreate()"
   ]
  },
  {
   "cell_type": "markdown",
   "id": "ead98e19",
   "metadata": {},
   "source": [
    "### Загрузка данных"
   ]
  },
  {
   "cell_type": "code",
   "execution_count": 3,
   "id": "53418534",
   "metadata": {},
   "outputs": [
    {
     "name": "stderr",
     "output_type": "stream",
     "text": [
      "                                                                                \r"
     ]
    },
    {
     "name": "stdout",
     "output_type": "stream",
     "text": [
      "root\n",
      " |-- longitude: double (nullable = true)\n",
      " |-- latitude: double (nullable = true)\n",
      " |-- housing_median_age: double (nullable = true)\n",
      " |-- total_rooms: double (nullable = true)\n",
      " |-- total_bedrooms: double (nullable = true)\n",
      " |-- population: double (nullable = true)\n",
      " |-- households: double (nullable = true)\n",
      " |-- median_income: double (nullable = true)\n",
      " |-- median_house_value: double (nullable = true)\n",
      " |-- ocean_proximity: string (nullable = true)\n",
      "\n"
     ]
    }
   ],
   "source": [
    "df_housing = spark.read.load('/datasets/housing.csv',\n",
    "                                        format='csv',\n",
    "                                             sep=',',\n",
    "                                    inferSchema=True,\n",
    "                                         header=True)\n",
    "\n",
    "#вывод схемы датафрейма\n",
    "df_housing.printSchema()"
   ]
  },
  {
   "cell_type": "markdown",
   "id": "d44e407b",
   "metadata": {},
   "source": [
    "**Вывод типов данных колонок и их названий**"
   ]
  },
  {
   "cell_type": "code",
   "execution_count": 4,
   "id": "18d24a8c",
   "metadata": {},
   "outputs": [
    {
     "name": "stdout",
     "output_type": "stream",
     "text": [
      "               column    type\n",
      "0           longitude  double\n",
      "1            latitude  double\n",
      "2  housing_median_age  double\n",
      "3         total_rooms  double\n",
      "4      total_bedrooms  double\n",
      "5          population  double\n",
      "6          households  double\n",
      "7       median_income  double\n",
      "8  median_house_value  double\n",
      "9     ocean_proximity  string\n"
     ]
    }
   ],
   "source": [
    "print(pd.DataFrame(df_housing.dtypes, columns=['column', 'type']))"
   ]
  },
  {
   "cell_type": "markdown",
   "id": "85921a33",
   "metadata": {},
   "source": [
    "### Анализ данных"
   ]
  },
  {
   "cell_type": "markdown",
   "id": "72ead81a",
   "metadata": {},
   "source": [
    "**Вывод первых пяти строк**"
   ]
  },
  {
   "cell_type": "code",
   "execution_count": 5,
   "id": "da9938a2",
   "metadata": {},
   "outputs": [
    {
     "data": {
      "text/html": [
       "<div>\n",
       "<style scoped>\n",
       "    .dataframe tbody tr th:only-of-type {\n",
       "        vertical-align: middle;\n",
       "    }\n",
       "\n",
       "    .dataframe tbody tr th {\n",
       "        vertical-align: top;\n",
       "    }\n",
       "\n",
       "    .dataframe thead th {\n",
       "        text-align: right;\n",
       "    }\n",
       "</style>\n",
       "<table border=\"1\" class=\"dataframe\">\n",
       "  <thead>\n",
       "    <tr style=\"text-align: right;\">\n",
       "      <th></th>\n",
       "      <th>longitude</th>\n",
       "      <th>latitude</th>\n",
       "      <th>housing_median_age</th>\n",
       "      <th>total_rooms</th>\n",
       "      <th>total_bedrooms</th>\n",
       "      <th>population</th>\n",
       "      <th>households</th>\n",
       "      <th>median_income</th>\n",
       "      <th>median_house_value</th>\n",
       "      <th>ocean_proximity</th>\n",
       "    </tr>\n",
       "  </thead>\n",
       "  <tbody>\n",
       "    <tr>\n",
       "      <th>0</th>\n",
       "      <td>-122.230</td>\n",
       "      <td>37.880</td>\n",
       "      <td>41.000</td>\n",
       "      <td>880.000</td>\n",
       "      <td>129.000</td>\n",
       "      <td>322.000</td>\n",
       "      <td>126.000</td>\n",
       "      <td>8.325</td>\n",
       "      <td>452600.000</td>\n",
       "      <td>NEAR BAY</td>\n",
       "    </tr>\n",
       "    <tr>\n",
       "      <th>1</th>\n",
       "      <td>-122.220</td>\n",
       "      <td>37.860</td>\n",
       "      <td>21.000</td>\n",
       "      <td>7099.000</td>\n",
       "      <td>1106.000</td>\n",
       "      <td>2401.000</td>\n",
       "      <td>1138.000</td>\n",
       "      <td>8.301</td>\n",
       "      <td>358500.000</td>\n",
       "      <td>NEAR BAY</td>\n",
       "    </tr>\n",
       "    <tr>\n",
       "      <th>2</th>\n",
       "      <td>-122.240</td>\n",
       "      <td>37.850</td>\n",
       "      <td>52.000</td>\n",
       "      <td>1467.000</td>\n",
       "      <td>190.000</td>\n",
       "      <td>496.000</td>\n",
       "      <td>177.000</td>\n",
       "      <td>7.257</td>\n",
       "      <td>352100.000</td>\n",
       "      <td>NEAR BAY</td>\n",
       "    </tr>\n",
       "    <tr>\n",
       "      <th>3</th>\n",
       "      <td>-122.250</td>\n",
       "      <td>37.850</td>\n",
       "      <td>52.000</td>\n",
       "      <td>1274.000</td>\n",
       "      <td>235.000</td>\n",
       "      <td>558.000</td>\n",
       "      <td>219.000</td>\n",
       "      <td>5.643</td>\n",
       "      <td>341300.000</td>\n",
       "      <td>NEAR BAY</td>\n",
       "    </tr>\n",
       "    <tr>\n",
       "      <th>4</th>\n",
       "      <td>-122.250</td>\n",
       "      <td>37.850</td>\n",
       "      <td>52.000</td>\n",
       "      <td>1627.000</td>\n",
       "      <td>280.000</td>\n",
       "      <td>565.000</td>\n",
       "      <td>259.000</td>\n",
       "      <td>3.846</td>\n",
       "      <td>342200.000</td>\n",
       "      <td>NEAR BAY</td>\n",
       "    </tr>\n",
       "  </tbody>\n",
       "</table>\n",
       "</div>"
      ],
      "text/plain": [
       "   longitude  latitude  housing_median_age  total_rooms  total_bedrooms  \\\n",
       "0   -122.230    37.880              41.000      880.000         129.000   \n",
       "1   -122.220    37.860              21.000     7099.000        1106.000   \n",
       "2   -122.240    37.850              52.000     1467.000         190.000   \n",
       "3   -122.250    37.850              52.000     1274.000         235.000   \n",
       "4   -122.250    37.850              52.000     1627.000         280.000   \n",
       "\n",
       "   population  households  median_income  median_house_value ocean_proximity  \n",
       "0     322.000     126.000          8.325          452600.000        NEAR BAY  \n",
       "1    2401.000    1138.000          8.301          358500.000        NEAR BAY  \n",
       "2     496.000     177.000          7.257          352100.000        NEAR BAY  \n",
       "3     558.000     219.000          5.643          341300.000        NEAR BAY  \n",
       "4     565.000     259.000          3.846          342200.000        NEAR BAY  "
      ]
     },
     "execution_count": 5,
     "metadata": {},
     "output_type": "execute_result"
    }
   ],
   "source": [
    "pd.DataFrame(df_housing.take(5), columns=df_housing.columns)"
   ]
  },
  {
   "cell_type": "markdown",
   "id": "cc425418",
   "metadata": {},
   "source": [
    "**Просмотрим значения, содержащиеся в категориальной переменной**"
   ]
  },
  {
   "cell_type": "code",
   "execution_count": 6,
   "id": "03c734d6",
   "metadata": {},
   "outputs": [
    {
     "name": "stderr",
     "output_type": "stream",
     "text": [
      "                                                                                \r"
     ]
    },
    {
     "data": {
      "text/html": [
       "<div>\n",
       "<style scoped>\n",
       "    .dataframe tbody tr th:only-of-type {\n",
       "        vertical-align: middle;\n",
       "    }\n",
       "\n",
       "    .dataframe tbody tr th {\n",
       "        vertical-align: top;\n",
       "    }\n",
       "\n",
       "    .dataframe thead th {\n",
       "        text-align: right;\n",
       "    }\n",
       "</style>\n",
       "<table border=\"1\" class=\"dataframe\">\n",
       "  <thead>\n",
       "    <tr style=\"text-align: right;\">\n",
       "      <th></th>\n",
       "      <th>ocean_proximity</th>\n",
       "      <th>count</th>\n",
       "    </tr>\n",
       "  </thead>\n",
       "  <tbody>\n",
       "    <tr>\n",
       "      <th>0</th>\n",
       "      <td>ISLAND</td>\n",
       "      <td>5</td>\n",
       "    </tr>\n",
       "    <tr>\n",
       "      <th>1</th>\n",
       "      <td>NEAR OCEAN</td>\n",
       "      <td>2658</td>\n",
       "    </tr>\n",
       "    <tr>\n",
       "      <th>2</th>\n",
       "      <td>NEAR BAY</td>\n",
       "      <td>2290</td>\n",
       "    </tr>\n",
       "    <tr>\n",
       "      <th>3</th>\n",
       "      <td>&lt;1H OCEAN</td>\n",
       "      <td>9136</td>\n",
       "    </tr>\n",
       "    <tr>\n",
       "      <th>4</th>\n",
       "      <td>INLAND</td>\n",
       "      <td>6551</td>\n",
       "    </tr>\n",
       "  </tbody>\n",
       "</table>\n",
       "</div>"
      ],
      "text/plain": [
       "  ocean_proximity  count\n",
       "0          ISLAND      5\n",
       "1      NEAR OCEAN   2658\n",
       "2        NEAR BAY   2290\n",
       "3       <1H OCEAN   9136\n",
       "4          INLAND   6551"
      ]
     },
     "execution_count": 6,
     "metadata": {},
     "output_type": "execute_result"
    }
   ],
   "source": [
    "df_housing.groupBy('ocean_proximity').count().toPandas()"
   ]
  },
  {
   "cell_type": "markdown",
   "id": "fdbfa657",
   "metadata": {},
   "source": [
    "Интересно, что всего пять жилых массивов, которые находятся на острове."
   ]
  },
  {
   "cell_type": "markdown",
   "id": "3e8e28c0",
   "metadata": {},
   "source": [
    "**Посмотрим базовые описательные статистики с помощью `describe()`** \n",
    "\n",
    "Также добавим квантили"
   ]
  },
  {
   "cell_type": "code",
   "execution_count": 7,
   "id": "2bf80069",
   "metadata": {},
   "outputs": [
    {
     "name": "stderr",
     "output_type": "stream",
     "text": [
      "                                                                                \r"
     ]
    },
    {
     "name": "stdout",
     "output_type": "stream",
     "text": [
      "[[-121.8, -118.49, -118.01], [33.93, 34.26, 37.71], [18.0, 29.0, 37.0], [1447.0, 2127.0, 3148.0], [296.0, 435.0, 647.0], [787.0, 1166.0, 1725.0], [280.0, 409.0, 605.0], [2.5625, 3.5347, 4.7431], [119600.0, 179700.0, 264700.0]]\n"
     ]
    }
   ],
   "source": [
    "num_columns = [c for c in df_housing.columns if c != 'ocean_proximity']\n",
    "\n",
    "quantile_lst = df_housing.approxQuantile(num_columns, [0.25, 0.5, 0.75], 0)\n",
    "print(quantile_lst)"
   ]
  },
  {
   "cell_type": "markdown",
   "id": "5e8f04a7",
   "metadata": {},
   "source": [
    "Соберем значения в таблицу"
   ]
  },
  {
   "cell_type": "code",
   "execution_count": 8,
   "id": "69923543",
   "metadata": {},
   "outputs": [
    {
     "name": "stderr",
     "output_type": "stream",
     "text": [
      "                                                                                \r"
     ]
    },
    {
     "data": {
      "text/html": [
       "<div>\n",
       "<style scoped>\n",
       "    .dataframe tbody tr th:only-of-type {\n",
       "        vertical-align: middle;\n",
       "    }\n",
       "\n",
       "    .dataframe tbody tr th {\n",
       "        vertical-align: top;\n",
       "    }\n",
       "\n",
       "    .dataframe thead th {\n",
       "        text-align: right;\n",
       "    }\n",
       "</style>\n",
       "<table border=\"1\" class=\"dataframe\">\n",
       "  <thead>\n",
       "    <tr style=\"text-align: right;\">\n",
       "      <th></th>\n",
       "      <th>count</th>\n",
       "      <th>mean</th>\n",
       "      <th>stddev</th>\n",
       "      <th>min</th>\n",
       "      <th>quantile_25</th>\n",
       "      <th>quantile_50</th>\n",
       "      <th>quantile_75</th>\n",
       "      <th>max</th>\n",
       "    </tr>\n",
       "  </thead>\n",
       "  <tbody>\n",
       "    <tr>\n",
       "      <th>longitude</th>\n",
       "      <td>20640</td>\n",
       "      <td>-119.56970445736148</td>\n",
       "      <td>2.003531723502584</td>\n",
       "      <td>-124.35</td>\n",
       "      <td>-121.800</td>\n",
       "      <td>-118.490</td>\n",
       "      <td>-118.010</td>\n",
       "      <td>-114.31</td>\n",
       "    </tr>\n",
       "    <tr>\n",
       "      <th>latitude</th>\n",
       "      <td>20640</td>\n",
       "      <td>35.6318614341087</td>\n",
       "      <td>2.135952397457101</td>\n",
       "      <td>32.54</td>\n",
       "      <td>33.930</td>\n",
       "      <td>34.260</td>\n",
       "      <td>37.710</td>\n",
       "      <td>41.95</td>\n",
       "    </tr>\n",
       "    <tr>\n",
       "      <th>housing_median_age</th>\n",
       "      <td>20640</td>\n",
       "      <td>28.639486434108527</td>\n",
       "      <td>12.58555761211163</td>\n",
       "      <td>1.0</td>\n",
       "      <td>18.000</td>\n",
       "      <td>29.000</td>\n",
       "      <td>37.000</td>\n",
       "      <td>52.0</td>\n",
       "    </tr>\n",
       "    <tr>\n",
       "      <th>total_rooms</th>\n",
       "      <td>20640</td>\n",
       "      <td>2635.7630813953488</td>\n",
       "      <td>2181.6152515827944</td>\n",
       "      <td>2.0</td>\n",
       "      <td>1447.000</td>\n",
       "      <td>2127.000</td>\n",
       "      <td>3148.000</td>\n",
       "      <td>39320.0</td>\n",
       "    </tr>\n",
       "    <tr>\n",
       "      <th>total_bedrooms</th>\n",
       "      <td>20433</td>\n",
       "      <td>537.8705525375618</td>\n",
       "      <td>421.38507007403115</td>\n",
       "      <td>1.0</td>\n",
       "      <td>296.000</td>\n",
       "      <td>435.000</td>\n",
       "      <td>647.000</td>\n",
       "      <td>6445.0</td>\n",
       "    </tr>\n",
       "    <tr>\n",
       "      <th>population</th>\n",
       "      <td>20640</td>\n",
       "      <td>1425.4767441860465</td>\n",
       "      <td>1132.46212176534</td>\n",
       "      <td>3.0</td>\n",
       "      <td>787.000</td>\n",
       "      <td>1166.000</td>\n",
       "      <td>1725.000</td>\n",
       "      <td>35682.0</td>\n",
       "    </tr>\n",
       "    <tr>\n",
       "      <th>households</th>\n",
       "      <td>20640</td>\n",
       "      <td>499.5396802325581</td>\n",
       "      <td>382.3297528316098</td>\n",
       "      <td>1.0</td>\n",
       "      <td>280.000</td>\n",
       "      <td>409.000</td>\n",
       "      <td>605.000</td>\n",
       "      <td>6082.0</td>\n",
       "    </tr>\n",
       "    <tr>\n",
       "      <th>median_income</th>\n",
       "      <td>20640</td>\n",
       "      <td>3.8706710029070246</td>\n",
       "      <td>1.899821717945263</td>\n",
       "      <td>0.4999</td>\n",
       "      <td>2.562</td>\n",
       "      <td>3.535</td>\n",
       "      <td>4.743</td>\n",
       "      <td>15.0001</td>\n",
       "    </tr>\n",
       "    <tr>\n",
       "      <th>median_house_value</th>\n",
       "      <td>20640</td>\n",
       "      <td>206855.81690891474</td>\n",
       "      <td>115395.61587441359</td>\n",
       "      <td>14999.0</td>\n",
       "      <td>119600.000</td>\n",
       "      <td>179700.000</td>\n",
       "      <td>264700.000</td>\n",
       "      <td>500001.0</td>\n",
       "    </tr>\n",
       "  </tbody>\n",
       "</table>\n",
       "</div>"
      ],
      "text/plain": [
       "                    count                 mean              stddev      min  \\\n",
       "longitude           20640  -119.56970445736148   2.003531723502584  -124.35   \n",
       "latitude            20640     35.6318614341087   2.135952397457101    32.54   \n",
       "housing_median_age  20640   28.639486434108527   12.58555761211163      1.0   \n",
       "total_rooms         20640   2635.7630813953488  2181.6152515827944      2.0   \n",
       "total_bedrooms      20433    537.8705525375618  421.38507007403115      1.0   \n",
       "population          20640   1425.4767441860465    1132.46212176534      3.0   \n",
       "households          20640    499.5396802325581   382.3297528316098      1.0   \n",
       "median_income       20640   3.8706710029070246   1.899821717945263   0.4999   \n",
       "median_house_value  20640   206855.81690891474  115395.61587441359  14999.0   \n",
       "\n",
       "                    quantile_25  quantile_50  quantile_75       max  \n",
       "longitude              -121.800     -118.490     -118.010   -114.31  \n",
       "latitude                 33.930       34.260       37.710     41.95  \n",
       "housing_median_age       18.000       29.000       37.000      52.0  \n",
       "total_rooms            1447.000     2127.000     3148.000   39320.0  \n",
       "total_bedrooms          296.000      435.000      647.000    6445.0  \n",
       "population              787.000     1166.000     1725.000   35682.0  \n",
       "households              280.000      409.000      605.000    6082.0  \n",
       "median_income             2.562        3.535        4.743   15.0001  \n",
       "median_house_value   119600.000   179700.000   264700.000  500001.0  "
      ]
     },
     "metadata": {},
     "output_type": "display_data"
    }
   ],
   "source": [
    "quantile_df = pd.DataFrame(quantile_lst, columns=['quantile_25', 'quantile_50', 'quantile_75'])\n",
    "quantile_df.index = num_columns\n",
    "\n",
    "df_housing_describe = df_housing.select(*num_columns).describe().toPandas().set_index('summary').T.join(quantile_df)\n",
    "columns_order_to_describe = ['count', 'mean', 'stddev','min', 'quantile_25', 'quantile_50', 'quantile_75', 'max']\n",
    "\n",
    "display(df_housing_describe[columns_order_to_describe])"
   ]
  },
  {
   "cell_type": "markdown",
   "id": "f67fbb01",
   "metadata": {},
   "source": [
    "**Проверим наличие пропусков в датасете**"
   ]
  },
  {
   "cell_type": "code",
   "execution_count": 9,
   "id": "2690d2ac",
   "metadata": {},
   "outputs": [
    {
     "name": "stderr",
     "output_type": "stream",
     "text": [
      "                                                                                \r"
     ]
    },
    {
     "data": {
      "text/html": [
       "<div>\n",
       "<style scoped>\n",
       "    .dataframe tbody tr th:only-of-type {\n",
       "        vertical-align: middle;\n",
       "    }\n",
       "\n",
       "    .dataframe tbody tr th {\n",
       "        vertical-align: top;\n",
       "    }\n",
       "\n",
       "    .dataframe thead th {\n",
       "        text-align: right;\n",
       "    }\n",
       "</style>\n",
       "<table border=\"1\" class=\"dataframe\">\n",
       "  <thead>\n",
       "    <tr style=\"text-align: right;\">\n",
       "      <th></th>\n",
       "      <th>NA</th>\n",
       "      <th>NA_percents</th>\n",
       "    </tr>\n",
       "  </thead>\n",
       "  <tbody>\n",
       "    <tr>\n",
       "      <th>longitude</th>\n",
       "      <td>0</td>\n",
       "      <td>0.000</td>\n",
       "    </tr>\n",
       "    <tr>\n",
       "      <th>latitude</th>\n",
       "      <td>0</td>\n",
       "      <td>0.000</td>\n",
       "    </tr>\n",
       "    <tr>\n",
       "      <th>housing_median_age</th>\n",
       "      <td>0</td>\n",
       "      <td>0.000</td>\n",
       "    </tr>\n",
       "    <tr>\n",
       "      <th>total_rooms</th>\n",
       "      <td>0</td>\n",
       "      <td>0.000</td>\n",
       "    </tr>\n",
       "    <tr>\n",
       "      <th>total_bedrooms</th>\n",
       "      <td>207</td>\n",
       "      <td>1.003</td>\n",
       "    </tr>\n",
       "    <tr>\n",
       "      <th>population</th>\n",
       "      <td>0</td>\n",
       "      <td>0.000</td>\n",
       "    </tr>\n",
       "    <tr>\n",
       "      <th>households</th>\n",
       "      <td>0</td>\n",
       "      <td>0.000</td>\n",
       "    </tr>\n",
       "    <tr>\n",
       "      <th>median_income</th>\n",
       "      <td>0</td>\n",
       "      <td>0.000</td>\n",
       "    </tr>\n",
       "    <tr>\n",
       "      <th>median_house_value</th>\n",
       "      <td>0</td>\n",
       "      <td>0.000</td>\n",
       "    </tr>\n",
       "    <tr>\n",
       "      <th>ocean_proximity</th>\n",
       "      <td>0</td>\n",
       "      <td>0.000</td>\n",
       "    </tr>\n",
       "  </tbody>\n",
       "</table>\n",
       "</div>"
      ],
      "text/plain": [
       "                     NA  NA_percents\n",
       "longitude             0        0.000\n",
       "latitude              0        0.000\n",
       "housing_median_age    0        0.000\n",
       "total_rooms           0        0.000\n",
       "total_bedrooms      207        1.003\n",
       "population            0        0.000\n",
       "households            0        0.000\n",
       "median_income         0        0.000\n",
       "median_house_value    0        0.000\n",
       "ocean_proximity       0        0.000"
      ]
     },
     "metadata": {},
     "output_type": "display_data"
    }
   ],
   "source": [
    "nan_table = \\\n",
    "df_housing.select(\n",
    "    [F.count(F.when(F.isnan(c) | F.col(c).isNull(), c)).alias(c) for c in df_housing.columns]\n",
    "    ).toPandas().T.rename(columns={0:'NA'})\n",
    "\n",
    "nan_table['NA_percents'] = nan_table['NA'] / df_housing.count() * 100\n",
    "\n",
    "display(nan_table)"
   ]
  },
  {
   "cell_type": "markdown",
   "id": "874054da",
   "metadata": {},
   "source": [
    "<div class=\"alert alert-success\">\n",
    "<b>Комментарий ревьюера ✔️:</b> Молодец, что смотришь пропуски в данных;)</div>"
   ]
  },
  {
   "cell_type": "markdown",
   "id": "02e0f026",
   "metadata": {},
   "source": [
    "Пропуски есть в колонке `total_bedrooms`. Так как по условиям задачи необходимо использовать линейную регрессию, то пропуски следует заполнить.\n",
    "\n",
    "Из таблицы видно, что пропусков всего один процент. Посмотрим статистику по этим строкам."
   ]
  },
  {
   "cell_type": "markdown",
   "id": "444b6668",
   "metadata": {},
   "source": [
    "Распределение по категориальному признаку"
   ]
  },
  {
   "cell_type": "code",
   "execution_count": 10,
   "id": "001c96ab",
   "metadata": {},
   "outputs": [
    {
     "name": "stderr",
     "output_type": "stream",
     "text": [
      "                                                                                \r"
     ]
    },
    {
     "data": {
      "text/html": [
       "<div>\n",
       "<style scoped>\n",
       "    .dataframe tbody tr th:only-of-type {\n",
       "        vertical-align: middle;\n",
       "    }\n",
       "\n",
       "    .dataframe tbody tr th {\n",
       "        vertical-align: top;\n",
       "    }\n",
       "\n",
       "    .dataframe thead th {\n",
       "        text-align: right;\n",
       "    }\n",
       "</style>\n",
       "<table border=\"1\" class=\"dataframe\">\n",
       "  <thead>\n",
       "    <tr style=\"text-align: right;\">\n",
       "      <th></th>\n",
       "      <th>ocean_proximity</th>\n",
       "      <th>count</th>\n",
       "    </tr>\n",
       "  </thead>\n",
       "  <tbody>\n",
       "    <tr>\n",
       "      <th>0</th>\n",
       "      <td>NEAR OCEAN</td>\n",
       "      <td>30</td>\n",
       "    </tr>\n",
       "    <tr>\n",
       "      <th>1</th>\n",
       "      <td>NEAR BAY</td>\n",
       "      <td>20</td>\n",
       "    </tr>\n",
       "    <tr>\n",
       "      <th>2</th>\n",
       "      <td>&lt;1H OCEAN</td>\n",
       "      <td>102</td>\n",
       "    </tr>\n",
       "    <tr>\n",
       "      <th>3</th>\n",
       "      <td>INLAND</td>\n",
       "      <td>55</td>\n",
       "    </tr>\n",
       "  </tbody>\n",
       "</table>\n",
       "</div>"
      ],
      "text/plain": [
       "  ocean_proximity  count\n",
       "0      NEAR OCEAN     30\n",
       "1        NEAR BAY     20\n",
       "2       <1H OCEAN    102\n",
       "3          INLAND     55"
      ]
     },
     "execution_count": 10,
     "metadata": {},
     "output_type": "execute_result"
    }
   ],
   "source": [
    "df_housing.filter('total_bedrooms is NULL').groupBy('ocean_proximity').count().toPandas()"
   ]
  },
  {
   "cell_type": "markdown",
   "id": "c8b6ae21",
   "metadata": {},
   "source": [
    "Базовые статистики"
   ]
  },
  {
   "cell_type": "code",
   "execution_count": 11,
   "id": "40ac95e1",
   "metadata": {},
   "outputs": [
    {
     "data": {
      "text/html": [
       "<div>\n",
       "<style scoped>\n",
       "    .dataframe tbody tr th:only-of-type {\n",
       "        vertical-align: middle;\n",
       "    }\n",
       "\n",
       "    .dataframe tbody tr th {\n",
       "        vertical-align: top;\n",
       "    }\n",
       "\n",
       "    .dataframe thead th {\n",
       "        text-align: right;\n",
       "    }\n",
       "</style>\n",
       "<table border=\"1\" class=\"dataframe\">\n",
       "  <thead>\n",
       "    <tr style=\"text-align: right;\">\n",
       "      <th></th>\n",
       "      <th>count</th>\n",
       "      <th>mean</th>\n",
       "      <th>stddev</th>\n",
       "      <th>min</th>\n",
       "      <th>quantile_25</th>\n",
       "      <th>quantile_50</th>\n",
       "      <th>quantile_75</th>\n",
       "      <th>max</th>\n",
       "    </tr>\n",
       "  </thead>\n",
       "  <tbody>\n",
       "    <tr>\n",
       "      <th>longitude</th>\n",
       "      <td>207</td>\n",
       "      <td>-119.47256038647346</td>\n",
       "      <td>2.001423938482286</td>\n",
       "      <td>-124.13</td>\n",
       "      <td>-121.850</td>\n",
       "      <td>-118.490</td>\n",
       "      <td>-117.980</td>\n",
       "      <td>-114.59</td>\n",
       "    </tr>\n",
       "    <tr>\n",
       "      <th>latitude</th>\n",
       "      <td>207</td>\n",
       "      <td>35.49763285024152</td>\n",
       "      <td>2.097297776100012</td>\n",
       "      <td>32.66</td>\n",
       "      <td>33.960</td>\n",
       "      <td>34.200</td>\n",
       "      <td>37.510</td>\n",
       "      <td>40.92</td>\n",
       "    </tr>\n",
       "    <tr>\n",
       "      <th>housing_median_age</th>\n",
       "      <td>207</td>\n",
       "      <td>29.270531400966185</td>\n",
       "      <td>11.964926543525893</td>\n",
       "      <td>4.0</td>\n",
       "      <td>19.000</td>\n",
       "      <td>30.000</td>\n",
       "      <td>38.000</td>\n",
       "      <td>52.0</td>\n",
       "    </tr>\n",
       "    <tr>\n",
       "      <th>total_rooms</th>\n",
       "      <td>207</td>\n",
       "      <td>2562.6038647342993</td>\n",
       "      <td>1787.269788987037</td>\n",
       "      <td>154.0</td>\n",
       "      <td>1307.000</td>\n",
       "      <td>2155.000</td>\n",
       "      <td>3473.000</td>\n",
       "      <td>11709.0</td>\n",
       "    </tr>\n",
       "    <tr>\n",
       "      <th>total_bedrooms</th>\n",
       "      <td>0</td>\n",
       "      <td>None</td>\n",
       "      <td>None</td>\n",
       "      <td>None</td>\n",
       "      <td>NaN</td>\n",
       "      <td>NaN</td>\n",
       "      <td>NaN</td>\n",
       "      <td>None</td>\n",
       "    </tr>\n",
       "    <tr>\n",
       "      <th>population</th>\n",
       "      <td>207</td>\n",
       "      <td>1477.7729468599034</td>\n",
       "      <td>1057.4482115173646</td>\n",
       "      <td>37.0</td>\n",
       "      <td>781.000</td>\n",
       "      <td>1217.000</td>\n",
       "      <td>1891.000</td>\n",
       "      <td>7604.0</td>\n",
       "    </tr>\n",
       "    <tr>\n",
       "      <th>households</th>\n",
       "      <td>207</td>\n",
       "      <td>510.02415458937196</td>\n",
       "      <td>386.1207044990592</td>\n",
       "      <td>16.0</td>\n",
       "      <td>257.000</td>\n",
       "      <td>427.000</td>\n",
       "      <td>629.000</td>\n",
       "      <td>3589.0</td>\n",
       "    </tr>\n",
       "    <tr>\n",
       "      <th>median_income</th>\n",
       "      <td>207</td>\n",
       "      <td>3.8222439613526573</td>\n",
       "      <td>1.9555946874300458</td>\n",
       "      <td>0.8527</td>\n",
       "      <td>2.562</td>\n",
       "      <td>3.412</td>\n",
       "      <td>4.633</td>\n",
       "      <td>15.0001</td>\n",
       "    </tr>\n",
       "    <tr>\n",
       "      <th>median_house_value</th>\n",
       "      <td>207</td>\n",
       "      <td>206007.28019323671</td>\n",
       "      <td>111638.21454491059</td>\n",
       "      <td>45800.0</td>\n",
       "      <td>128100.000</td>\n",
       "      <td>175000.000</td>\n",
       "      <td>269300.000</td>\n",
       "      <td>500001.0</td>\n",
       "    </tr>\n",
       "  </tbody>\n",
       "</table>\n",
       "</div>"
      ],
      "text/plain": [
       "                   count                 mean              stddev      min  \\\n",
       "longitude            207  -119.47256038647346   2.001423938482286  -124.13   \n",
       "latitude             207    35.49763285024152   2.097297776100012    32.66   \n",
       "housing_median_age   207   29.270531400966185  11.964926543525893      4.0   \n",
       "total_rooms          207   2562.6038647342993   1787.269788987037    154.0   \n",
       "total_bedrooms         0                 None                None     None   \n",
       "population           207   1477.7729468599034  1057.4482115173646     37.0   \n",
       "households           207   510.02415458937196   386.1207044990592     16.0   \n",
       "median_income        207   3.8222439613526573  1.9555946874300458   0.8527   \n",
       "median_house_value   207   206007.28019323671  111638.21454491059  45800.0   \n",
       "\n",
       "                    quantile_25  quantile_50  quantile_75       max  \n",
       "longitude              -121.850     -118.490     -117.980   -114.59  \n",
       "latitude                 33.960       34.200       37.510     40.92  \n",
       "housing_median_age       19.000       30.000       38.000      52.0  \n",
       "total_rooms            1307.000     2155.000     3473.000   11709.0  \n",
       "total_bedrooms              NaN          NaN          NaN      None  \n",
       "population              781.000     1217.000     1891.000    7604.0  \n",
       "households              257.000      427.000      629.000    3589.0  \n",
       "median_income             2.562        3.412        4.633   15.0001  \n",
       "median_house_value   128100.000   175000.000   269300.000  500001.0  "
      ]
     },
     "metadata": {},
     "output_type": "display_data"
    }
   ],
   "source": [
    "quantile_lst = df_housing.filter('total_bedrooms is NULL').approxQuantile(num_columns, [0.25, 0.5, 0.75], 0)\n",
    "quantile_df = pd.DataFrame(quantile_lst, columns=['quantile_25', 'quantile_50', 'quantile_75'])\n",
    "quantile_df.index = num_columns\n",
    "\n",
    "df_housing_describe_nans = df_housing.filter('total_bedrooms is NULL').select(*num_columns).describe().toPandas().set_index('summary').T.join(quantile_df)\n",
    "\n",
    "display(df_housing_describe_nans[columns_order_to_describe])"
   ]
  },
  {
   "cell_type": "markdown",
   "id": "1636db8a",
   "metadata": {},
   "source": [
    "Какой-то закономерности в пропусках выявить не удалось. Так как пропусков всего один процент, то заполним такие значения медианным значением признака."
   ]
  },
  {
   "cell_type": "markdown",
   "id": "4a87d6e4",
   "metadata": {},
   "source": [
    "Получим медианное значение и выведем его на экран"
   ]
  },
  {
   "cell_type": "code",
   "execution_count": 12,
   "id": "519fd926",
   "metadata": {},
   "outputs": [
    {
     "data": {
      "text/plain": [
       "435.0"
      ]
     },
     "execution_count": 12,
     "metadata": {},
     "output_type": "execute_result"
    }
   ],
   "source": [
    "total_bedrooms_median = df_housing.approxQuantile('total_bedrooms', [0.5], 0)[0]\n",
    "\n",
    "total_bedrooms_median"
   ]
  },
  {
   "cell_type": "markdown",
   "id": "f8170120",
   "metadata": {},
   "source": [
    "<div class=\"alert alert-success\">\n",
    "<b>Комментарий ревьюера ✔️:</b> Хорошее решение:)</div>"
   ]
  },
  {
   "cell_type": "markdown",
   "id": "5cf2964f",
   "metadata": {},
   "source": [
    "**Заполним пропущенные значения**"
   ]
  },
  {
   "cell_type": "code",
   "execution_count": 13,
   "id": "aabcf5e8",
   "metadata": {},
   "outputs": [
    {
     "data": {
      "text/html": [
       "<div>\n",
       "<style scoped>\n",
       "    .dataframe tbody tr th:only-of-type {\n",
       "        vertical-align: middle;\n",
       "    }\n",
       "\n",
       "    .dataframe tbody tr th {\n",
       "        vertical-align: top;\n",
       "    }\n",
       "\n",
       "    .dataframe thead th {\n",
       "        text-align: right;\n",
       "    }\n",
       "</style>\n",
       "<table border=\"1\" class=\"dataframe\">\n",
       "  <thead>\n",
       "    <tr style=\"text-align: right;\">\n",
       "      <th></th>\n",
       "      <th>NA</th>\n",
       "    </tr>\n",
       "  </thead>\n",
       "  <tbody>\n",
       "    <tr>\n",
       "      <th>longitude</th>\n",
       "      <td>0</td>\n",
       "    </tr>\n",
       "    <tr>\n",
       "      <th>latitude</th>\n",
       "      <td>0</td>\n",
       "    </tr>\n",
       "    <tr>\n",
       "      <th>housing_median_age</th>\n",
       "      <td>0</td>\n",
       "    </tr>\n",
       "    <tr>\n",
       "      <th>total_rooms</th>\n",
       "      <td>0</td>\n",
       "    </tr>\n",
       "    <tr>\n",
       "      <th>total_bedrooms</th>\n",
       "      <td>0</td>\n",
       "    </tr>\n",
       "    <tr>\n",
       "      <th>population</th>\n",
       "      <td>0</td>\n",
       "    </tr>\n",
       "    <tr>\n",
       "      <th>households</th>\n",
       "      <td>0</td>\n",
       "    </tr>\n",
       "    <tr>\n",
       "      <th>median_income</th>\n",
       "      <td>0</td>\n",
       "    </tr>\n",
       "    <tr>\n",
       "      <th>median_house_value</th>\n",
       "      <td>0</td>\n",
       "    </tr>\n",
       "    <tr>\n",
       "      <th>ocean_proximity</th>\n",
       "      <td>0</td>\n",
       "    </tr>\n",
       "  </tbody>\n",
       "</table>\n",
       "</div>"
      ],
      "text/plain": [
       "                    NA\n",
       "longitude            0\n",
       "latitude             0\n",
       "housing_median_age   0\n",
       "total_rooms          0\n",
       "total_bedrooms       0\n",
       "population           0\n",
       "households           0\n",
       "median_income        0\n",
       "median_house_value   0\n",
       "ocean_proximity      0"
      ]
     },
     "execution_count": 13,
     "metadata": {},
     "output_type": "execute_result"
    }
   ],
   "source": [
    "df_housing = df_housing.fillna(total_bedrooms_median, subset=['total_bedrooms'])\n",
    "df_housing.select(\n",
    "    [F.count(F.when(F.isnan(c) | F.col(c).isNull(), c)).alias(c) for c in df_housing.columns]\n",
    "    ).toPandas().T.rename(columns={0:'NA'})"
   ]
  },
  {
   "cell_type": "markdown",
   "id": "e91a6ff9",
   "metadata": {},
   "source": [
    "Пропуски заполнены"
   ]
  },
  {
   "cell_type": "markdown",
   "id": "a9b64fdd",
   "metadata": {},
   "source": [
    "Рассмотрим также корреляцию признаков, исключив целевой и категориальный признаки."
   ]
  },
  {
   "cell_type": "markdown",
   "id": "8375ec15",
   "metadata": {},
   "source": [
    "Для этого будем использовать функцию корреляции в пакете `pyspark.ml.stat`. Между тем, требуется требуется перевести типы данных в столбцах в `Vector`, для конвертации данных будем использовать `VectorAssembler`, а затем применим корреляцию."
   ]
  },
  {
   "cell_type": "code",
   "execution_count": 14,
   "id": "b57282e5",
   "metadata": {
    "scrolled": false
   },
   "outputs": [
    {
     "name": "stderr",
     "output_type": "stream",
     "text": [
      "22/03/28 20:46:00 WARN BLAS: Failed to load implementation from: com.github.fommil.netlib.NativeSystemBLAS\n",
      "22/03/28 20:46:00 WARN BLAS: Failed to load implementation from: com.github.fommil.netlib.NativeRefBLAS\n",
      "                                                                                \r"
     ]
    },
    {
     "data": {
      "text/plain": [
       "<AxesSubplot:>"
      ]
     },
     "execution_count": 14,
     "metadata": {},
     "output_type": "execute_result"
    },
    {
     "data": {
      "image/png": "[encoded data removed]",
      "text/plain": [
       "<Figure size 432x288 with 2 Axes>"
      ]
     },
     "metadata": {
      "needs_background": "light"
     },
     "output_type": "display_data"
    }
   ],
   "source": [
    "#выделим признаки\n",
    "corr_columns = [c for c in num_columns if c != 'median_house_value']\n",
    "\n",
    "#преобразуем данные в `Vector`\n",
    "vector_col = 'corr_features'\n",
    "assembler = VectorAssembler(inputCols=corr_columns, outputCol=vector_col)\n",
    "df_vector = assembler.setHandleInvalid(\"skip\").transform(df_housing[corr_columns]).select(vector_col)\n",
    "\n",
    "#создаем матрицу\n",
    "matrix = Correlation.corr(df_vector, vector_col)\n",
    "cor_np = matrix.collect()[0][matrix.columns[0]].toArray()\n",
    "\n",
    "\n",
    "matrix_df = pd.DataFrame(cor_np, columns=corr_columns)\n",
    "matrix_df.index = corr_columns\n",
    "\n",
    "#делаем \"уголок\" и выводим график корреляции в виде heatmap\n",
    "matrix_mask = np.triu(matrix_df)\n",
    "sns.heatmap(matrix_df,\n",
    "           annot=True,\n",
    "     mask=matrix_mask,\n",
    "              vmin=-1,\n",
    "               vmax=1,\n",
    "      cmap='coolwarm')"
   ]
  },
  {
   "cell_type": "markdown",
   "id": "b95c54e6",
   "metadata": {},
   "source": [
    "**Вывод:**\n",
    "* Среди жилых массивов есть такие, где всего лишь один дом;\n",
    "* Есть жилые массивы, где всего 3 человека проживает;\n",
    "* В столбце `total_bedrooms` есть пропуски, которые стоит заполнить;\n",
    "\n",
    "В данных есть выбросы. Если при обучении модели наличие выбросов будет мешать, то от них стоит избавиться.\n",
    "\n",
    "Коррелируют между собой: кол-во спален, кол-во комнат, кол-во человек в жилом массиве, кол-во домовладений."
   ]
  },
  {
   "cell_type": "markdown",
   "id": "a1381da6",
   "metadata": {},
   "source": [
    "<div class=\"alert alert-success\">\n",
    "<b>Комментарий ревьюера ✔️:</b> Отлично, хорошая идея глянуть на корреляцию:) Только мы уже пропуски убрали и я не совсем понял про \"Есть жилые массивы, где всего 3 человека проживает\"</div>"
   ]
  },
  {
   "cell_type": "markdown",
   "id": "3f30ff1d",
   "metadata": {
    "id": "9f0a82f3"
   },
   "source": [
    "## Обучение моделей"
   ]
  },
  {
   "cell_type": "markdown",
   "id": "32642e83",
   "metadata": {
    "id": "bddb08c4"
   },
   "source": [
    "### Подготовка"
   ]
  },
  {
   "cell_type": "markdown",
   "id": "c6c99ebf",
   "metadata": {},
   "source": [
    "Разделим признаки по типу"
   ]
  },
  {
   "cell_type": "code",
   "execution_count": 15,
   "id": "a0789a8b",
   "metadata": {},
   "outputs": [],
   "source": [
    "cat_features = 'ocean_proximity'\n",
    "num_features = [c for c in num_columns if c != 'median_house_value']\n",
    "target = 'median_house_value'"
   ]
  },
  {
   "cell_type": "markdown",
   "id": "a873fa14",
   "metadata": {},
   "source": [
    "#### Трансформация категориальных признаков"
   ]
  },
  {
   "cell_type": "markdown",
   "id": "e3e9a95d",
   "metadata": {},
   "source": [
    "Трансформируем категориальные признаки с помощью `StringIndexer`"
   ]
  },
  {
   "cell_type": "code",
   "execution_count": 16,
   "id": "bb06f63b",
   "metadata": {},
   "outputs": [
    {
     "name": "stderr",
     "output_type": "stream",
     "text": [
      "                                                                                \r"
     ]
    }
   ],
   "source": [
    "indexer = StringIndexer(inputCol=cat_features,\n",
    "                        outputCol=cat_features+'_idx')\n",
    "df_housing = indexer.fit(df_housing).transform(df_housing)"
   ]
  },
  {
   "cell_type": "code",
   "execution_count": 17,
   "id": "05001fc1",
   "metadata": {
    "scrolled": true
   },
   "outputs": [
    {
     "name": "stdout",
     "output_type": "stream",
     "text": [
      "+---------------+-------------------+\n",
      "|ocean_proximity|ocean_proximity_idx|\n",
      "+---------------+-------------------+\n",
      "|       NEAR BAY|                3.0|\n",
      "|       NEAR BAY|                3.0|\n",
      "|       NEAR BAY|                3.0|\n",
      "+---------------+-------------------+\n",
      "only showing top 3 rows\n",
      "\n"
     ]
    }
   ],
   "source": [
    "cols = [c for c in df_housing.columns if c.startswith(cat_features)]\n",
    "df_housing.select(cols).show(3)"
   ]
  },
  {
   "cell_type": "markdown",
   "id": "642f7110",
   "metadata": {},
   "source": [
    " Дополнительно применим OHE-кодирование"
   ]
  },
  {
   "cell_type": "code",
   "execution_count": 18,
   "id": "dc60f6c4",
   "metadata": {},
   "outputs": [],
   "source": [
    "encoder = OneHotEncoder(inputCol='ocean_proximity_idx',\n",
    "                        outputCol=cat_features+'_ohe')\n",
    "df_housing = encoder.fit(df_housing).transform(df_housing)"
   ]
  },
  {
   "cell_type": "code",
   "execution_count": 19,
   "id": "e0558e5a",
   "metadata": {},
   "outputs": [
    {
     "name": "stdout",
     "output_type": "stream",
     "text": [
      "+---------------+-------------------+-------------------+\n",
      "|ocean_proximity|ocean_proximity_idx|ocean_proximity_ohe|\n",
      "+---------------+-------------------+-------------------+\n",
      "|       NEAR BAY|                3.0|      (4,[3],[1.0])|\n",
      "|       NEAR BAY|                3.0|      (4,[3],[1.0])|\n",
      "|       NEAR BAY|                3.0|      (4,[3],[1.0])|\n",
      "+---------------+-------------------+-------------------+\n",
      "only showing top 3 rows\n",
      "\n"
     ]
    }
   ],
   "source": [
    "cols = [c for c in df_housing.columns if c.startswith(cat_features)]\n",
    "df_housing.select(cols).show(3)"
   ]
  },
  {
   "cell_type": "markdown",
   "id": "734af25f",
   "metadata": {},
   "source": [
    "В конце преобразуем этот признак в один вектор."
   ]
  },
  {
   "cell_type": "code",
   "execution_count": 20,
   "id": "5448722e",
   "metadata": {},
   "outputs": [],
   "source": [
    "categorical_assembler = \\\n",
    "    VectorAssembler(inputCols=['ocean_proximity_ohe'],\n",
    "                    outputCol='categorical_features')\n",
    "df_housing = categorical_assembler.transform(df_housing)"
   ]
  },
  {
   "cell_type": "code",
   "execution_count": 21,
   "id": "454a511a",
   "metadata": {},
   "outputs": [
    {
     "data": {
      "text/html": [
       "<div>\n",
       "<style scoped>\n",
       "    .dataframe tbody tr th:only-of-type {\n",
       "        vertical-align: middle;\n",
       "    }\n",
       "\n",
       "    .dataframe tbody tr th {\n",
       "        vertical-align: top;\n",
       "    }\n",
       "\n",
       "    .dataframe thead th {\n",
       "        text-align: right;\n",
       "    }\n",
       "</style>\n",
       "<table border=\"1\" class=\"dataframe\">\n",
       "  <thead>\n",
       "    <tr style=\"text-align: right;\">\n",
       "      <th></th>\n",
       "      <th>longitude</th>\n",
       "      <th>latitude</th>\n",
       "      <th>housing_median_age</th>\n",
       "      <th>total_rooms</th>\n",
       "      <th>total_bedrooms</th>\n",
       "      <th>population</th>\n",
       "      <th>households</th>\n",
       "      <th>median_income</th>\n",
       "      <th>median_house_value</th>\n",
       "      <th>ocean_proximity</th>\n",
       "      <th>ocean_proximity_idx</th>\n",
       "      <th>ocean_proximity_ohe</th>\n",
       "      <th>categorical_features</th>\n",
       "    </tr>\n",
       "  </thead>\n",
       "  <tbody>\n",
       "    <tr>\n",
       "      <th>0</th>\n",
       "      <td>-122.230</td>\n",
       "      <td>37.880</td>\n",
       "      <td>41.000</td>\n",
       "      <td>880.000</td>\n",
       "      <td>129.000</td>\n",
       "      <td>322.000</td>\n",
       "      <td>126.000</td>\n",
       "      <td>8.325</td>\n",
       "      <td>452600.000</td>\n",
       "      <td>NEAR BAY</td>\n",
       "      <td>3.000</td>\n",
       "      <td>(0.0, 0.0, 0.0, 1.0)</td>\n",
       "      <td>(0.0, 0.0, 0.0, 1.0)</td>\n",
       "    </tr>\n",
       "    <tr>\n",
       "      <th>1</th>\n",
       "      <td>-122.220</td>\n",
       "      <td>37.860</td>\n",
       "      <td>21.000</td>\n",
       "      <td>7099.000</td>\n",
       "      <td>1106.000</td>\n",
       "      <td>2401.000</td>\n",
       "      <td>1138.000</td>\n",
       "      <td>8.301</td>\n",
       "      <td>358500.000</td>\n",
       "      <td>NEAR BAY</td>\n",
       "      <td>3.000</td>\n",
       "      <td>(0.0, 0.0, 0.0, 1.0)</td>\n",
       "      <td>(0.0, 0.0, 0.0, 1.0)</td>\n",
       "    </tr>\n",
       "    <tr>\n",
       "      <th>2</th>\n",
       "      <td>-122.240</td>\n",
       "      <td>37.850</td>\n",
       "      <td>52.000</td>\n",
       "      <td>1467.000</td>\n",
       "      <td>190.000</td>\n",
       "      <td>496.000</td>\n",
       "      <td>177.000</td>\n",
       "      <td>7.257</td>\n",
       "      <td>352100.000</td>\n",
       "      <td>NEAR BAY</td>\n",
       "      <td>3.000</td>\n",
       "      <td>(0.0, 0.0, 0.0, 1.0)</td>\n",
       "      <td>(0.0, 0.0, 0.0, 1.0)</td>\n",
       "    </tr>\n",
       "  </tbody>\n",
       "</table>\n",
       "</div>"
      ],
      "text/plain": [
       "   longitude  latitude  housing_median_age  total_rooms  total_bedrooms  \\\n",
       "0   -122.230    37.880              41.000      880.000         129.000   \n",
       "1   -122.220    37.860              21.000     7099.000        1106.000   \n",
       "2   -122.240    37.850              52.000     1467.000         190.000   \n",
       "\n",
       "   population  households  median_income  median_house_value ocean_proximity  \\\n",
       "0     322.000     126.000          8.325          452600.000        NEAR BAY   \n",
       "1    2401.000    1138.000          8.301          358500.000        NEAR BAY   \n",
       "2     496.000     177.000          7.257          352100.000        NEAR BAY   \n",
       "\n",
       "   ocean_proximity_idx   ocean_proximity_ohe  categorical_features  \n",
       "0                3.000  (0.0, 0.0, 0.0, 1.0)  (0.0, 0.0, 0.0, 1.0)  \n",
       "1                3.000  (0.0, 0.0, 0.0, 1.0)  (0.0, 0.0, 0.0, 1.0)  \n",
       "2                3.000  (0.0, 0.0, 0.0, 1.0)  (0.0, 0.0, 0.0, 1.0)  "
      ]
     },
     "execution_count": 21,
     "metadata": {},
     "output_type": "execute_result"
    }
   ],
   "source": [
    "pd.DataFrame(df_housing.take(3),\n",
    "             columns=df_housing.columns)"
   ]
  },
  {
   "cell_type": "markdown",
   "id": "eecfebb3",
   "metadata": {},
   "source": [
    "<div class=\"alert alert-success\">\n",
    "<b>Комментарий ревьюера ✔️:</b> Категориальные данные готовы:)</div>"
   ]
  },
  {
   "cell_type": "markdown",
   "id": "69c7af6e",
   "metadata": {},
   "source": [
    "#### Трансформация числовых признаков"
   ]
  },
  {
   "cell_type": "markdown",
   "id": "344dfffd",
   "metadata": {},
   "source": [
    "Для числовых признаков применим шкалирование значений, чтобы сильные выбросы не смещали предсказания модели"
   ]
  },
  {
   "cell_type": "code",
   "execution_count": 22,
   "id": "c34dc515",
   "metadata": {},
   "outputs": [
    {
     "name": "stderr",
     "output_type": "stream",
     "text": [
      "                                                                                \r"
     ]
    }
   ],
   "source": [
    "numerical_assembler = VectorAssembler(inputCols=num_features,\n",
    "                                      outputCol='numerical_features')\n",
    "df_housing = numerical_assembler.transform(df_housing)\n",
    "\n",
    "standard_scaler = StandardScaler(inputCol='numerical_features',\n",
    "                                 outputCol='numerical_features_scaled')\n",
    "df_housing = standard_scaler.fit(df_housing).transform(df_housing)"
   ]
  },
  {
   "cell_type": "markdown",
   "id": "ef893f41",
   "metadata": {},
   "source": [
    "<div class=\"alert alert-success\">\n",
    "<b>Комментарий ревьюера ✔️:</b> Отмасштабировал корректно:)</div>"
   ]
  },
  {
   "cell_type": "markdown",
   "id": "9a94cd2f",
   "metadata": {},
   "source": [
    "После всех трансформаций получаем такие признаки:"
   ]
  },
  {
   "cell_type": "code",
   "execution_count": 23,
   "id": "c255ccae",
   "metadata": {},
   "outputs": [
    {
     "data": {
      "text/plain": [
       "[('longitude', 'double'),\n",
       " ('latitude', 'double'),\n",
       " ('housing_median_age', 'double'),\n",
       " ('total_rooms', 'double'),\n",
       " ('total_bedrooms', 'double'),\n",
       " ('population', 'double'),\n",
       " ('households', 'double'),\n",
       " ('median_income', 'double'),\n",
       " ('median_house_value', 'double'),\n",
       " ('ocean_proximity', 'string'),\n",
       " ('ocean_proximity_idx', 'double'),\n",
       " ('ocean_proximity_ohe', 'vector'),\n",
       " ('categorical_features', 'vector'),\n",
       " ('numerical_features', 'vector'),\n",
       " ('numerical_features_scaled', 'vector')]"
      ]
     },
     "execution_count": 23,
     "metadata": {},
     "output_type": "execute_result"
    }
   ],
   "source": [
    "df_housing.dtypes"
   ]
  },
  {
   "cell_type": "markdown",
   "id": "1d63f360",
   "metadata": {},
   "source": [
    "#### Преобразование категориальных и численных признаков в один вектор"
   ]
  },
  {
   "cell_type": "code",
   "execution_count": 24,
   "id": "e1643fff",
   "metadata": {},
   "outputs": [
    {
     "name": "stdout",
     "output_type": "stream",
     "text": [
      "+--------------------+\n",
      "|        all_features|\n",
      "+--------------------+\n",
      "|[0.0,0.0,0.0,1.0,...|\n",
      "|[0.0,0.0,0.0,1.0,...|\n",
      "|[0.0,0.0,0.0,1.0,...|\n",
      "+--------------------+\n",
      "only showing top 3 rows\n",
      "\n"
     ]
    }
   ],
   "source": [
    "all_features = ['categorical_features', 'numerical_features_scaled']\n",
    "\n",
    "final_assembler = VectorAssembler(inputCols=all_features,\n",
    "                                  outputCol='all_features')\n",
    "\n",
    "df_housing = final_assembler.transform(df_housing)\n",
    "\n",
    "df_housing.select('all_features').show(3)"
   ]
  },
  {
   "cell_type": "markdown",
   "id": "aa3ac492",
   "metadata": {},
   "source": [
    "#### Разделение на выборки"
   ]
  },
  {
   "cell_type": "markdown",
   "id": "5eb5c80f",
   "metadata": {},
   "source": [
    "Разделим датасет на две части - выборку для обучения и выборку для тестирования качества"
   ]
  },
  {
   "cell_type": "code",
   "execution_count": 25,
   "id": "ae81563f",
   "metadata": {},
   "outputs": [
    {
     "name": "stderr",
     "output_type": "stream",
     "text": [
      "[Stage 34:>                                                         (0 + 1) / 1]\r"
     ]
    },
    {
     "name": "stdout",
     "output_type": "stream",
     "text": [
      "Обучающая выборка: 15500 строк, 3 столбцов \n",
      "Тестовая выборка:, 5140 строк, 3 столбцов\n"
     ]
    },
    {
     "name": "stderr",
     "output_type": "stream",
     "text": [
      "                                                                                \r"
     ]
    }
   ],
   "source": [
    "train, test = df_housing.select(['all_features',\n",
    "                                 'numerical_features_scaled',\n",
    "                                 'median_house_value']).randomSplit([.75, .25], seed=RANDOM_SEED)\n",
    "print(f'Обучающая выборка: {train.count()} строк, {len(train.columns)} столбцов',\n",
    "      f'\\nТестовая выборка:, {test.count()} строк, {len(test.columns)} столбцов')"
   ]
  },
  {
   "cell_type": "markdown",
   "id": "7d69480d",
   "metadata": {},
   "source": [
    "<div class=\"alert alert-success\">\n",
    "<b>Комментарий ревьюера ✔️:</b>Данные успешно готовы:)</div>"
   ]
  },
  {
   "cell_type": "markdown",
   "id": "3464e991",
   "metadata": {},
   "source": [
    "### Обучение моделей"
   ]
  },
  {
   "cell_type": "markdown",
   "id": "7e484f3f",
   "metadata": {},
   "source": [
    "По условиям задачи необходимо сравнить метрики RMSE, MAE, R2 на следующих вариациях датасета:\n",
    "* со всеми признаками;\n",
    "* без категориального признака.\n",
    "\n",
    "В первом случае для обучения будем использовать вектор `all_features`, а во втором - `numerical_features_scaled`. Все полученные данные сохраним в список"
   ]
  },
  {
   "cell_type": "code",
   "execution_count": 26,
   "id": "3badfd28",
   "metadata": {},
   "outputs": [
    {
     "name": "stderr",
     "output_type": "stream",
     "text": [
      "22/03/28 20:46:13 WARN Instrumentation: [6f1ea083] regParam is zero, which might cause numerical instability and overfitting.\n",
      "22/03/28 20:46:15 WARN LAPACK: Failed to load implementation from: com.github.fommil.netlib.NativeSystemLAPACK\n",
      "22/03/28 20:46:15 WARN LAPACK: Failed to load implementation from: com.github.fommil.netlib.NativeRefLAPACK\n",
      "22/03/28 20:46:23 WARN Instrumentation: [c1cabafb] regParam is zero, which might cause numerical instability and overfitting.\n",
      "                                                                                \r"
     ]
    }
   ],
   "source": [
    "# Создаем список, куда будем вносить результаты\n",
    "data_table = [\n",
    "    ['features_used', 'RMSE', 'MAE', 'R2']\n",
    "]\n",
    "\n",
    "# Перебираем варианты используемых признаков\n",
    "for col in ['all_features', 'numerical_features_scaled']:\n",
    "    # обучаем модель\n",
    "    lr = LinearRegression(featuresCol=col, labelCol=target)\n",
    "    model = lr.fit(train)\n",
    "    \n",
    "    #запишем предсказания на тестовой выборке\n",
    "    predictions = model.transform(test)\n",
    "    \n",
    "    #выделим предсказания и ответы в отдельную переменную\n",
    "    results = predictions.select(['prediction', target])\n",
    "    \n",
    "    #соберем все в RDD\n",
    "    results_collect = results.collect()\n",
    "    results_list = [ (float(i[0]), float(i[1])) for i in results_collect]\n",
    "    scoreAndLabels = spark.sparkContext.parallelize(results_list)\n",
    "    \n",
    "    #запишем метрики в отдельную переменную\n",
    "    metrics = RegressionMetrics(scoreAndLabels)\n",
    "    \n",
    "    #добавим результаты в список\n",
    "    data_table.append([col,\n",
    "                       metrics.rootMeanSquaredError,\n",
    "                       metrics.meanAbsoluteError,\n",
    "                       metrics.r2])"
   ]
  },
  {
   "cell_type": "markdown",
   "id": "4bc7b29a",
   "metadata": {},
   "source": [
    "<div class=\"alert alert-success\">\n",
    "<b>Комментарий ревьюера ✔️:</b>Молодец, что используешь цикл, так гораздо удобнее:)</div>"
   ]
  },
  {
   "cell_type": "markdown",
   "id": "eeaee4dc",
   "metadata": {
    "id": "757fd103"
   },
   "source": [
    "# Анализ результатов"
   ]
  },
  {
   "cell_type": "code",
   "execution_count": 27,
   "id": "7950fda3",
   "metadata": {
    "scrolled": true
   },
   "outputs": [
    {
     "data": {
      "text/html": [
       "<div>\n",
       "<style scoped>\n",
       "    .dataframe tbody tr th:only-of-type {\n",
       "        vertical-align: middle;\n",
       "    }\n",
       "\n",
       "    .dataframe tbody tr th {\n",
       "        vertical-align: top;\n",
       "    }\n",
       "\n",
       "    .dataframe thead th {\n",
       "        text-align: right;\n",
       "    }\n",
       "</style>\n",
       "<table border=\"1\" class=\"dataframe\">\n",
       "  <thead>\n",
       "    <tr style=\"text-align: right;\">\n",
       "      <th></th>\n",
       "      <th>features_used</th>\n",
       "      <th>RMSE</th>\n",
       "      <th>MAE</th>\n",
       "      <th>R2</th>\n",
       "    </tr>\n",
       "  </thead>\n",
       "  <tbody>\n",
       "    <tr>\n",
       "      <th>0</th>\n",
       "      <td>all_features</td>\n",
       "      <td>67559.131</td>\n",
       "      <td>49365.353</td>\n",
       "      <td>0.660</td>\n",
       "    </tr>\n",
       "    <tr>\n",
       "      <th>1</th>\n",
       "      <td>numerical_features_scaled</td>\n",
       "      <td>68462.761</td>\n",
       "      <td>50316.784</td>\n",
       "      <td>0.651</td>\n",
       "    </tr>\n",
       "  </tbody>\n",
       "</table>\n",
       "</div>"
      ],
      "text/plain": [
       "               features_used      RMSE       MAE    R2\n",
       "0               all_features 67559.131 49365.353 0.660\n",
       "1  numerical_features_scaled 68462.761 50316.784 0.651"
      ]
     },
     "execution_count": 27,
     "metadata": {},
     "output_type": "execute_result"
    }
   ],
   "source": [
    "pd.DataFrame(data_table[1:], columns=data_table[0])"
   ]
  },
  {
   "cell_type": "markdown",
   "id": "5d82840e",
   "metadata": {},
   "source": [
    "Исходя из полученных результатов, можно сказать, что модель обучается лучше на всех признаках без исключения."
   ]
  },
  {
   "cell_type": "markdown",
   "id": "10e6bda9",
   "metadata": {},
   "source": [
    "<div class=\"alert alert-success\">\n",
    "<b>Комментарий ревьюера ✔️:</b>Проект получился сильным:) Могу подкинуть полезного материала:\n",
    "\n",
    "+  https://drive.google.com/file/d/1r8CJHH_hwDM16l1Pnpb4KJzoJFrJ5XRi/view\n",
    "+  https://arxiv.org/ftp/arxiv/papers/2201/2201.00650.pdf\n",
    "+  https://github.com/slgero/testovoe\n",
    "\n",
    "</div>"
   ]
  },
  {
   "cell_type": "markdown",
   "id": "34e83cad",
   "metadata": {},
   "source": [
    "<font color='blue'><b>Итоговый комментарий ревьюера</b></font>\n",
    "<div class=\"alert alert-success\">\n",
    "<b>Комментарий ревьюера ✔️:</b>Андрей, спасибо за отличный проект!  Я готов принять работу, но хочу убедиться, что тебе все понятно.<br>\n",
    "Если есть какие либо вопросы я с удовольствием на них отвечу:)</div>\n"
   ]
  },
  {
   "cell_type": "markdown",
   "id": "aa80cced",
   "metadata": {},
   "source": [
    "<div class=\"alert alert-info\"> <b>Комментарий студента:</b> Привет! Спасибо за отзыв и материалы. Вопросов по проекту нет. Посоветуй, пожалуйста, ресурс, где можно еще прокачать pySpark.</div>"
   ]
  },
  {
   "attachments": {
    "image.png": {
     "image/png": "[encoded data removed]"
    }
   },
   "cell_type": "markdown",
   "id": "a1f720c8",
   "metadata": {},
   "source": [
    "<div class=\"alert alert-success\">\n",
    "<b>Комментарий ревьюера V2✔️:</b>\n",
    "    \n",
    "+  https://www.tutorialspoint.com/pyspark/index.htm\n",
    "+  https://www.guru99.com/pyspark-tutorial.html\n",
    "+  https://databricks.com/spark/getting-started-with-apache-spark/machine-learning#load-sample-data\n",
    " \n",
    "Удачи в следующих проектах!!!\n",
    "    \n",
    "    \n",
    "    \n",
    "![image.png](attachment:image.png)    \n",
    "</div>"
   ]
  }
 ],
 "metadata": {
  "ExecuteTimeLog": [
   {
    "duration": 21810,
    "start_time": "2022-02-24T10:17:03.557Z"
   },
   {
    "duration": 8,
    "start_time": "2022-02-24T18:01:56.039Z"
   },
   {
    "duration": 17219,
    "start_time": "2022-02-24T18:02:10.123Z"
   },
   {
    "duration": 10252,
    "start_time": "2022-02-24T18:07:43.974Z"
   },
   {
    "duration": 33,
    "start_time": "2022-02-24T18:08:31.372Z"
   },
   {
    "duration": 1728,
    "start_time": "2022-02-24T18:11:03.877Z"
   },
   {
    "duration": 104,
    "start_time": "2022-02-24T18:12:44.333Z"
   },
   {
    "duration": 43,
    "start_time": "2022-02-24T18:12:48.461Z"
   },
   {
    "duration": 819,
    "start_time": "2022-02-24T18:13:37.811Z"
   },
   {
    "duration": 311,
    "start_time": "2022-02-24T18:14:02.284Z"
   },
   {
    "duration": 336,
    "start_time": "2022-02-24T18:15:50.382Z"
   },
   {
    "duration": 322,
    "start_time": "2022-02-24T18:15:59.810Z"
   },
   {
    "duration": 305,
    "start_time": "2022-02-24T18:16:06.109Z"
   },
   {
    "duration": 383,
    "start_time": "2022-02-24T18:16:15.615Z"
   },
   {
    "duration": 255,
    "start_time": "2022-02-24T18:16:23.276Z"
   },
   {
    "duration": 20,
    "start_time": "2022-02-24T19:08:07.641Z"
   },
   {
    "duration": 7,
    "start_time": "2022-02-25T07:26:32.339Z"
   },
   {
    "duration": 1260,
    "start_time": "2022-02-25T07:26:32.349Z"
   },
   {
    "duration": 11,
    "start_time": "2022-02-25T07:26:33.615Z"
   },
   {
    "duration": 398,
    "start_time": "2022-02-25T07:26:33.629Z"
   },
   {
    "duration": 17160,
    "start_time": "2022-02-25T07:26:50.550Z"
   },
   {
    "duration": 9680,
    "start_time": "2022-02-25T07:27:07.714Z"
   },
   {
    "duration": 102,
    "start_time": "2022-02-25T07:27:17.398Z"
   },
   {
    "duration": 1091,
    "start_time": "2022-02-25T07:27:17.503Z"
   },
   {
    "duration": 14,
    "start_time": "2022-02-25T07:40:23.448Z"
   },
   {
    "duration": 1607,
    "start_time": "2022-02-25T07:42:24.111Z"
   },
   {
    "duration": 22,
    "start_time": "2022-02-25T07:43:58.007Z"
   },
   {
    "duration": 569,
    "start_time": "2022-02-25T07:44:15.574Z"
   },
   {
    "duration": 751,
    "start_time": "2022-02-25T07:44:18.183Z"
   },
   {
    "duration": 19,
    "start_time": "2022-02-25T07:45:38.709Z"
   },
   {
    "duration": 15273,
    "start_time": "2022-02-25T08:17:06.498Z"
   },
   {
    "duration": 8016,
    "start_time": "2022-02-25T08:17:21.773Z"
   },
   {
    "duration": 78,
    "start_time": "2022-02-25T08:17:29.792Z"
   },
   {
    "duration": 697,
    "start_time": "2022-02-25T08:17:29.872Z"
   },
   {
    "duration": 5524,
    "start_time": "2022-02-25T08:17:30.572Z"
   },
   {
    "duration": 14634,
    "start_time": "2022-02-25T08:54:43.064Z"
   },
   {
    "duration": 7594,
    "start_time": "2022-02-25T08:54:57.701Z"
   },
   {
    "duration": 103,
    "start_time": "2022-02-25T08:55:05.298Z"
   },
   {
    "duration": 689,
    "start_time": "2022-02-25T08:55:05.403Z"
   },
   {
    "duration": 5291,
    "start_time": "2022-02-25T08:55:06.095Z"
   },
   {
    "duration": 303,
    "start_time": "2022-02-25T09:44:19.474Z"
   },
   {
    "duration": 11,
    "start_time": "2022-02-25T09:44:24.497Z"
   },
   {
    "duration": 70,
    "start_time": "2022-02-25T09:45:22.619Z"
   },
   {
    "duration": 4,
    "start_time": "2022-02-25T09:45:32.857Z"
   },
   {
    "duration": 198,
    "start_time": "2022-02-25T09:45:45.089Z"
   },
   {
    "duration": 6,
    "start_time": "2022-02-25T09:45:48.515Z"
   },
   {
    "duration": 91,
    "start_time": "2022-02-25T09:45:52.232Z"
   },
   {
    "duration": 5,
    "start_time": "2022-02-25T09:45:55.976Z"
   },
   {
    "duration": 5,
    "start_time": "2022-02-25T09:46:48.256Z"
   },
   {
    "duration": 241,
    "start_time": "2022-02-25T09:56:54.330Z"
   },
   {
    "duration": 6,
    "start_time": "2022-02-25T09:57:13.114Z"
   },
   {
    "duration": 504,
    "start_time": "2022-02-25T09:58:06.769Z"
   },
   {
    "duration": 253,
    "start_time": "2022-02-25T09:58:28.422Z"
   },
   {
    "duration": 320,
    "start_time": "2022-02-25T10:00:27.343Z"
   },
   {
    "duration": 7,
    "start_time": "2022-02-25T10:00:37.680Z"
   },
   {
    "duration": 311,
    "start_time": "2022-02-25T10:00:53.898Z"
   },
   {
    "duration": 428,
    "start_time": "2022-02-25T10:01:00.783Z"
   },
   {
    "duration": 2188,
    "start_time": "2022-02-25T10:01:27.807Z"
   },
   {
    "duration": 791,
    "start_time": "2022-02-25T10:01:37.829Z"
   },
   {
    "duration": 9,
    "start_time": "2022-02-26T16:54:03.727Z"
   },
   {
    "duration": 14731,
    "start_time": "2022-02-26T16:54:50.545Z"
   },
   {
    "duration": 6683,
    "start_time": "2022-02-26T16:55:05.278Z"
   },
   {
    "duration": 89,
    "start_time": "2022-02-26T16:55:11.963Z"
   },
   {
    "duration": 624,
    "start_time": "2022-02-26T16:55:12.054Z"
   },
   {
    "duration": 4715,
    "start_time": "2022-02-26T16:55:12.733Z"
   },
   {
    "duration": 3795,
    "start_time": "2022-02-26T16:55:17.450Z"
   },
   {
    "duration": 967,
    "start_time": "2022-02-26T16:55:22.260Z"
   },
   {
    "duration": 702,
    "start_time": "2022-02-26T16:57:06.562Z"
   },
   {
    "duration": 616,
    "start_time": "2022-02-26T16:57:33.244Z"
   },
   {
    "duration": 624,
    "start_time": "2022-02-26T16:57:53.828Z"
   },
   {
    "duration": 1212,
    "start_time": "2022-02-26T17:06:00.330Z"
   },
   {
    "duration": 1029,
    "start_time": "2022-02-26T17:06:28.427Z"
   },
   {
    "duration": 867,
    "start_time": "2022-02-26T17:06:42.874Z"
   },
   {
    "duration": 791,
    "start_time": "2022-02-26T17:06:48.358Z"
   },
   {
    "duration": 685,
    "start_time": "2022-02-26T17:07:24.074Z"
   },
   {
    "duration": 669,
    "start_time": "2022-02-26T17:11:33.691Z"
   },
   {
    "duration": 726,
    "start_time": "2022-02-26T17:11:44.906Z"
   },
   {
    "duration": 575,
    "start_time": "2022-02-26T17:15:11.210Z"
   },
   {
    "duration": 692,
    "start_time": "2022-02-26T17:24:30.699Z"
   },
   {
    "duration": 4,
    "start_time": "2022-02-26T18:42:58.537Z"
   },
   {
    "duration": 505,
    "start_time": "2022-02-26T19:16:09.041Z"
   },
   {
    "duration": 54,
    "start_time": "2022-02-26T19:18:48.090Z"
   },
   {
    "duration": 14,
    "start_time": "2022-02-26T19:19:01.659Z"
   },
   {
    "duration": 165,
    "start_time": "2022-02-26T19:19:17.114Z"
   },
   {
    "duration": 258,
    "start_time": "2022-02-26T19:19:31.179Z"
   },
   {
    "duration": 53,
    "start_time": "2022-02-26T19:19:42.250Z"
   },
   {
    "duration": 74,
    "start_time": "2022-02-26T19:19:47.594Z"
   },
   {
    "duration": 157,
    "start_time": "2022-02-26T19:26:19.578Z"
   },
   {
    "duration": 682,
    "start_time": "2022-02-26T19:27:15.178Z"
   },
   {
    "duration": 491,
    "start_time": "2022-02-26T19:27:25.562Z"
   },
   {
    "duration": 14,
    "start_time": "2022-02-26T19:27:52.858Z"
   },
   {
    "duration": 594,
    "start_time": "2022-02-26T19:28:00.474Z"
   },
   {
    "duration": 47,
    "start_time": "2022-02-26T19:28:57.366Z"
   },
   {
    "duration": 305,
    "start_time": "2022-02-26T19:29:02.138Z"
   },
   {
    "duration": 11,
    "start_time": "2022-02-26T19:29:51.906Z"
   },
   {
    "duration": 481,
    "start_time": "2022-02-26T19:34:13.162Z"
   },
   {
    "duration": 1458,
    "start_time": "2022-02-28T10:17:49.207Z"
   },
   {
    "duration": 33902,
    "start_time": "2022-02-28T10:17:50.668Z"
   },
   {
    "duration": 11173,
    "start_time": "2022-02-28T10:18:24.573Z"
   },
   {
    "duration": 67,
    "start_time": "2022-02-28T10:18:35.748Z"
   },
   {
    "duration": 744,
    "start_time": "2022-02-28T10:18:35.817Z"
   },
   {
    "duration": 5544,
    "start_time": "2022-02-28T10:18:36.563Z"
   },
   {
    "duration": 2301,
    "start_time": "2022-02-28T10:18:42.109Z"
   },
   {
    "duration": 1491,
    "start_time": "2022-02-28T10:18:44.411Z"
   },
   {
    "duration": 267,
    "start_time": "2022-02-28T10:27:39.547Z"
   },
   {
    "duration": 181,
    "start_time": "2022-02-28T10:28:21.844Z"
   },
   {
    "duration": 361,
    "start_time": "2022-02-28T10:28:50.579Z"
   },
   {
    "duration": 1222,
    "start_time": "2022-03-02T08:03:25.809Z"
   },
   {
    "duration": 14056,
    "start_time": "2022-03-02T08:03:27.033Z"
   },
   {
    "duration": 7316,
    "start_time": "2022-03-02T08:03:41.092Z"
   },
   {
    "duration": 100,
    "start_time": "2022-03-02T08:03:48.411Z"
   },
   {
    "duration": 678,
    "start_time": "2022-03-02T08:03:48.512Z"
   },
   {
    "duration": 5105,
    "start_time": "2022-03-02T08:03:49.192Z"
   },
   {
    "duration": 2209,
    "start_time": "2022-03-02T08:03:54.299Z"
   },
   {
    "duration": 1369,
    "start_time": "2022-03-02T08:03:56.510Z"
   },
   {
    "duration": 1008,
    "start_time": "2022-03-02T08:28:24.070Z"
   },
   {
    "duration": 1294,
    "start_time": "2022-03-02T08:29:50.608Z"
   },
   {
    "duration": 4,
    "start_time": "2022-03-02T08:32:08.111Z"
   },
   {
    "duration": 1005,
    "start_time": "2022-03-02T08:32:14.687Z"
   },
   {
    "duration": 871,
    "start_time": "2022-03-02T08:32:58.159Z"
   },
   {
    "duration": 2215,
    "start_time": "2022-03-02T09:45:14.791Z"
   },
   {
    "duration": 7,
    "start_time": "2022-03-02T09:50:36.381Z"
   },
   {
    "duration": 8,
    "start_time": "2022-03-02T09:50:54.967Z"
   },
   {
    "duration": 306,
    "start_time": "2022-03-02T09:51:26.576Z"
   },
   {
    "duration": 237,
    "start_time": "2022-03-02T09:51:34.944Z"
   },
   {
    "duration": 5,
    "start_time": "2022-03-02T09:52:24.655Z"
   },
   {
    "duration": 4,
    "start_time": "2022-03-02T09:52:32.511Z"
   },
   {
    "duration": 215,
    "start_time": "2022-03-02T09:53:22.224Z"
   },
   {
    "duration": 230,
    "start_time": "2022-03-02T09:53:30.145Z"
   },
   {
    "duration": 236,
    "start_time": "2022-03-02T09:54:18.146Z"
   },
   {
    "duration": 4,
    "start_time": "2022-03-02T09:54:23.456Z"
   },
   {
    "duration": 4,
    "start_time": "2022-03-02T09:54:35.824Z"
   },
   {
    "duration": 278,
    "start_time": "2022-03-02T09:55:02.880Z"
   },
   {
    "duration": 5,
    "start_time": "2022-03-02T09:55:22.255Z"
   },
   {
    "duration": 5,
    "start_time": "2022-03-02T09:55:34.800Z"
   },
   {
    "duration": 760,
    "start_time": "2022-03-02T09:56:31.041Z"
   },
   {
    "duration": 5,
    "start_time": "2022-03-02T09:57:29.376Z"
   },
   {
    "duration": 1641,
    "start_time": "2022-03-11T06:59:36.622Z"
   },
   {
    "duration": 16430,
    "start_time": "2022-03-11T06:59:38.266Z"
   },
   {
    "duration": 9747,
    "start_time": "2022-03-11T06:59:54.704Z"
   },
   {
    "duration": 36,
    "start_time": "2022-03-11T07:00:04.455Z"
   },
   {
    "duration": 949,
    "start_time": "2022-03-11T07:00:04.552Z"
   },
   {
    "duration": 6468,
    "start_time": "2022-03-11T07:00:05.503Z"
   },
   {
    "duration": 3609,
    "start_time": "2022-03-11T07:00:11.974Z"
   },
   {
    "duration": 3365,
    "start_time": "2022-03-11T07:00:15.586Z"
   },
   {
    "duration": 8,
    "start_time": "2022-03-11T07:00:18.955Z"
   },
   {
    "duration": 2893,
    "start_time": "2022-03-11T07:00:18.968Z"
   },
   {
    "duration": 3738,
    "start_time": "2022-03-11T07:06:07.478Z"
   },
   {
    "duration": 2651,
    "start_time": "2022-03-11T07:06:19.622Z"
   },
   {
    "duration": 11,
    "start_time": "2022-03-11T07:17:17.024Z"
   },
   {
    "duration": 316,
    "start_time": "2022-03-11T07:18:24.502Z"
   },
   {
    "duration": 5,
    "start_time": "2022-03-11T07:18:31.894Z"
   },
   {
    "duration": 15,
    "start_time": "2022-03-11T07:20:06.381Z"
   },
   {
    "duration": 316,
    "start_time": "2022-03-11T07:27:58.070Z"
   },
   {
    "duration": 115,
    "start_time": "2022-03-11T07:29:45.413Z"
   },
   {
    "duration": 97,
    "start_time": "2022-03-11T07:29:50.212Z"
   },
   {
    "duration": 299,
    "start_time": "2022-03-11T07:29:56.501Z"
   },
   {
    "duration": 6,
    "start_time": "2022-03-11T07:31:27.829Z"
   },
   {
    "duration": 737,
    "start_time": "2022-03-11T07:31:35.189Z"
   },
   {
    "duration": 7,
    "start_time": "2022-03-11T07:31:55.429Z"
   },
   {
    "duration": 11,
    "start_time": "2022-03-11T07:32:04.422Z"
   },
   {
    "duration": 7,
    "start_time": "2022-03-11T07:32:08.603Z"
   },
   {
    "duration": 5,
    "start_time": "2022-03-11T07:32:22.789Z"
   },
   {
    "duration": 12,
    "start_time": "2022-03-11T07:32:32.980Z"
   },
   {
    "duration": 1164,
    "start_time": "2022-03-11T07:39:04.022Z"
   },
   {
    "duration": 11,
    "start_time": "2022-03-11T07:39:08.837Z"
   },
   {
    "duration": 992,
    "start_time": "2022-03-11T07:41:19.077Z"
   },
   {
    "duration": 959,
    "start_time": "2022-03-11T07:43:45.508Z"
   },
   {
    "duration": 951,
    "start_time": "2022-03-11T07:44:29.621Z"
   },
   {
    "duration": 6,
    "start_time": "2022-03-11T09:04:21.808Z"
   },
   {
    "duration": 163,
    "start_time": "2022-03-11T09:05:27.184Z"
   },
   {
    "duration": 30,
    "start_time": "2022-03-11T09:07:52.546Z"
   },
   {
    "duration": 83,
    "start_time": "2022-03-11T09:09:01.185Z"
   },
   {
    "duration": 6699,
    "start_time": "2022-03-11T09:10:11.185Z"
   },
   {
    "duration": 6,
    "start_time": "2022-03-11T09:10:20.932Z"
   },
   {
    "duration": 7,
    "start_time": "2022-03-11T09:10:26.689Z"
   },
   {
    "duration": 5,
    "start_time": "2022-03-11T09:13:55.761Z"
   },
   {
    "duration": 5,
    "start_time": "2022-03-11T09:14:42.879Z"
   },
   {
    "duration": 363,
    "start_time": "2022-03-11T09:16:15.983Z"
   },
   {
    "duration": 331,
    "start_time": "2022-03-11T09:21:43.521Z"
   },
   {
    "duration": 332,
    "start_time": "2022-03-11T09:21:57.328Z"
   },
   {
    "duration": 724,
    "start_time": "2022-03-11T09:22:29.456Z"
   },
   {
    "duration": 528,
    "start_time": "2022-03-11T09:23:08.256Z"
   },
   {
    "duration": 5,
    "start_time": "2022-03-11T09:24:32.047Z"
   },
   {
    "duration": 6,
    "start_time": "2022-03-11T09:53:49.648Z"
   },
   {
    "duration": 5,
    "start_time": "2022-03-11T09:53:55.598Z"
   },
   {
    "duration": 524,
    "start_time": "2022-03-11T09:56:13.166Z"
   },
   {
    "duration": 36,
    "start_time": "2022-03-11T09:56:24.032Z"
   },
   {
    "duration": 1397,
    "start_time": "2022-03-11T09:58:00.423Z"
   },
   {
    "duration": 6,
    "start_time": "2022-03-11T10:00:23.342Z"
   },
   {
    "duration": 1897,
    "start_time": "2022-03-11T10:01:07.487Z"
   },
   {
    "duration": 10,
    "start_time": "2022-03-11T10:01:12.845Z"
   },
   {
    "duration": 132,
    "start_time": "2022-03-11T10:01:19.823Z"
   },
   {
    "duration": 116,
    "start_time": "2022-03-11T10:02:00.958Z"
   },
   {
    "duration": 122,
    "start_time": "2022-03-11T10:02:18.285Z"
   },
   {
    "duration": 508,
    "start_time": "2022-03-11T10:02:42.685Z"
   },
   {
    "duration": 332,
    "start_time": "2022-03-11T10:02:47.054Z"
   },
   {
    "duration": 113,
    "start_time": "2022-03-11T10:02:52.142Z"
   },
   {
    "duration": 5,
    "start_time": "2022-03-11T10:02:56.462Z"
   },
   {
    "duration": 47,
    "start_time": "2022-03-11T10:03:09.246Z"
   },
   {
    "duration": 99,
    "start_time": "2022-03-11T10:03:41.550Z"
   },
   {
    "duration": 362,
    "start_time": "2022-03-11T10:03:47.614Z"
   },
   {
    "duration": 113,
    "start_time": "2022-03-11T10:05:07.406Z"
   },
   {
    "duration": 100,
    "start_time": "2022-03-11T10:06:51.165Z"
   },
   {
    "duration": 6,
    "start_time": "2022-03-11T10:06:54.606Z"
   },
   {
    "duration": 168,
    "start_time": "2022-03-11T10:08:08.030Z"
   },
   {
    "duration": 478,
    "start_time": "2022-03-11T10:08:11.550Z"
   },
   {
    "duration": 96,
    "start_time": "2022-03-11T10:08:14.750Z"
   },
   {
    "duration": 390,
    "start_time": "2022-03-11T10:08:17.518Z"
   },
   {
    "duration": 129,
    "start_time": "2022-03-11T10:08:21.247Z"
   },
   {
    "duration": 107,
    "start_time": "2022-03-11T10:08:39.887Z"
   },
   {
    "duration": 125,
    "start_time": "2022-03-11T10:09:04.837Z"
   },
   {
    "duration": 129,
    "start_time": "2022-03-11T10:10:05.679Z"
   },
   {
    "duration": 123,
    "start_time": "2022-03-11T10:10:17.374Z"
   },
   {
    "duration": 5,
    "start_time": "2022-03-11T10:10:44.750Z"
   },
   {
    "duration": 1005,
    "start_time": "2022-03-11T10:13:23.878Z"
   },
   {
    "duration": 579,
    "start_time": "2022-03-11T10:14:02.478Z"
   },
   {
    "duration": 1016,
    "start_time": "2022-03-11T10:14:16.239Z"
   },
   {
    "duration": 552,
    "start_time": "2022-03-11T10:23:24.846Z"
   },
   {
    "duration": 535,
    "start_time": "2022-03-11T10:23:34.238Z"
   },
   {
    "duration": 567,
    "start_time": "2022-03-11T10:23:54.910Z"
   },
   {
    "duration": 530,
    "start_time": "2022-03-11T10:23:57.278Z"
   },
   {
    "duration": 563,
    "start_time": "2022-03-11T10:24:20.077Z"
   },
   {
    "duration": 2262,
    "start_time": "2022-03-11T10:25:43.038Z"
   },
   {
    "duration": 1895,
    "start_time": "2022-03-11T19:04:13.279Z"
   },
   {
    "duration": 16016,
    "start_time": "2022-03-11T19:04:15.177Z"
   },
   {
    "duration": 10114,
    "start_time": "2022-03-11T19:04:31.196Z"
   },
   {
    "duration": 97,
    "start_time": "2022-03-11T19:04:41.313Z"
   },
   {
    "duration": 888,
    "start_time": "2022-03-11T19:04:41.413Z"
   },
   {
    "duration": 6389,
    "start_time": "2022-03-11T19:04:42.303Z"
   },
   {
    "duration": 621,
    "start_time": "2022-03-11T19:04:48.695Z"
   },
   {
    "duration": 644,
    "start_time": "2022-03-11T19:04:48.674Z"
   },
   {
    "duration": 643,
    "start_time": "2022-03-11T19:04:48.677Z"
   },
   {
    "duration": 641,
    "start_time": "2022-03-11T19:04:48.680Z"
   },
   {
    "duration": 640,
    "start_time": "2022-03-11T19:04:48.683Z"
   },
   {
    "duration": 3432,
    "start_time": "2022-03-11T19:42:16.455Z"
   },
   {
    "duration": 23,
    "start_time": "2022-03-11T19:42:23.423Z"
   },
   {
    "duration": 2681,
    "start_time": "2022-03-11T19:42:26.813Z"
   },
   {
    "duration": 1628,
    "start_time": "2022-03-11T19:43:03.973Z"
   },
   {
    "duration": 2186,
    "start_time": "2022-03-11T19:43:10.412Z"
   },
   {
    "duration": 6974,
    "start_time": "2022-03-11T19:43:13.885Z"
   },
   {
    "duration": 3721,
    "start_time": "2022-03-11T19:47:03.677Z"
   },
   {
    "duration": 217,
    "start_time": "2022-03-11T19:47:56.396Z"
   },
   {
    "duration": 4422,
    "start_time": "2022-03-11T19:52:58.966Z"
   },
   {
    "duration": 4,
    "start_time": "2022-03-11T20:09:27.756Z"
   },
   {
    "duration": 1762,
    "start_time": "2022-03-11T20:11:49.158Z"
   },
   {
    "duration": 16268,
    "start_time": "2022-03-11T20:11:50.923Z"
   },
   {
    "duration": 10103,
    "start_time": "2022-03-11T20:12:07.195Z"
   },
   {
    "duration": 96,
    "start_time": "2022-03-11T20:12:17.301Z"
   },
   {
    "duration": 629,
    "start_time": "2022-03-11T20:12:17.399Z"
   },
   {
    "duration": 6968,
    "start_time": "2022-03-11T20:12:18.030Z"
   },
   {
    "duration": 3581,
    "start_time": "2022-03-11T20:12:25.001Z"
   },
   {
    "duration": 3799,
    "start_time": "2022-03-11T20:12:28.584Z"
   },
   {
    "duration": 2393,
    "start_time": "2022-03-11T20:12:32.386Z"
   },
   {
    "duration": 5203,
    "start_time": "2022-03-11T20:12:34.782Z"
   },
   {
    "duration": 4,
    "start_time": "2022-03-11T20:13:23.938Z"
   },
   {
    "duration": 5,
    "start_time": "2022-03-11T20:16:10.105Z"
   },
   {
    "duration": 1435,
    "start_time": "2022-03-14T14:15:55.230Z"
   },
   {
    "duration": 14972,
    "start_time": "2022-03-14T14:15:56.667Z"
   },
   {
    "duration": 8088,
    "start_time": "2022-03-14T14:16:11.642Z"
   },
   {
    "duration": 80,
    "start_time": "2022-03-14T14:16:19.733Z"
   },
   {
    "duration": 507,
    "start_time": "2022-03-14T14:16:19.816Z"
   },
   {
    "duration": 5596,
    "start_time": "2022-03-14T14:16:20.325Z"
   },
   {
    "duration": 4001,
    "start_time": "2022-03-14T14:16:25.923Z"
   },
   {
    "duration": 2902,
    "start_time": "2022-03-14T14:16:29.927Z"
   },
   {
    "duration": 2581,
    "start_time": "2022-03-14T14:16:32.832Z"
   },
   {
    "duration": 8269,
    "start_time": "2022-03-14T14:16:35.415Z"
   },
   {
    "duration": 1215,
    "start_time": "2022-03-15T11:24:16.499Z"
   },
   {
    "duration": 13249,
    "start_time": "2022-03-15T11:24:17.715Z"
   },
   {
    "duration": 6182,
    "start_time": "2022-03-15T11:24:30.967Z"
   },
   {
    "duration": 86,
    "start_time": "2022-03-15T11:24:37.151Z"
   },
   {
    "duration": 403,
    "start_time": "2022-03-15T11:24:37.239Z"
   },
   {
    "duration": 4394,
    "start_time": "2022-03-15T11:24:37.644Z"
   },
   {
    "duration": 2995,
    "start_time": "2022-03-15T11:24:42.040Z"
   },
   {
    "duration": 1896,
    "start_time": "2022-03-15T11:24:45.037Z"
   },
   {
    "duration": 1420,
    "start_time": "2022-03-15T11:24:46.936Z"
   },
   {
    "duration": 4593,
    "start_time": "2022-03-15T11:24:48.358Z"
   },
   {
    "duration": 2,
    "start_time": "2022-03-15T11:33:13.363Z"
   },
   {
    "duration": 1442,
    "start_time": "2022-03-18T12:23:25.251Z"
   },
   {
    "duration": 0,
    "start_time": "2022-03-18T12:23:26.695Z"
   },
   {
    "duration": 0,
    "start_time": "2022-03-18T12:23:26.696Z"
   },
   {
    "duration": 0,
    "start_time": "2022-03-18T12:23:26.697Z"
   },
   {
    "duration": 0,
    "start_time": "2022-03-18T12:23:26.699Z"
   },
   {
    "duration": 0,
    "start_time": "2022-03-18T12:23:26.700Z"
   },
   {
    "duration": 0,
    "start_time": "2022-03-18T12:23:26.701Z"
   },
   {
    "duration": 0,
    "start_time": "2022-03-18T12:23:26.702Z"
   },
   {
    "duration": 0,
    "start_time": "2022-03-18T12:23:26.703Z"
   },
   {
    "duration": 0,
    "start_time": "2022-03-18T12:23:26.704Z"
   },
   {
    "duration": 27,
    "start_time": "2022-03-18T12:25:44.545Z"
   },
   {
    "duration": 1087,
    "start_time": "2022-03-18T12:28:45.258Z"
   },
   {
    "duration": 75151,
    "start_time": "2022-03-18T12:37:37.335Z"
   },
   {
    "duration": 34,
    "start_time": "2022-03-18T12:50:30.246Z"
   },
   {
    "duration": 1181,
    "start_time": "2022-03-18T12:51:24.103Z"
   },
   {
    "duration": 102,
    "start_time": "2022-03-18T12:51:51.396Z"
   },
   {
    "duration": 1210,
    "start_time": "2022-03-18T12:51:56.195Z"
   },
   {
    "duration": 202237,
    "start_time": "2022-03-18T12:52:00.061Z"
   },
   {
    "duration": 230,
    "start_time": "2022-03-23T17:48:18.538Z"
   },
   {
    "duration": 2024,
    "start_time": "2022-03-27T11:31:03.529Z"
   },
   {
    "duration": 19293,
    "start_time": "2022-03-27T11:31:05.555Z"
   },
   {
    "duration": 13159,
    "start_time": "2022-03-27T11:31:24.851Z"
   },
   {
    "duration": 116,
    "start_time": "2022-03-27T11:31:38.012Z"
   },
   {
    "duration": 579,
    "start_time": "2022-03-27T11:31:38.131Z"
   },
   {
    "duration": 8893,
    "start_time": "2022-03-27T11:31:38.712Z"
   },
   {
    "duration": 3717,
    "start_time": "2022-03-27T11:31:47.607Z"
   },
   {
    "duration": 3232,
    "start_time": "2022-03-27T11:31:51.385Z"
   },
   {
    "duration": 1895,
    "start_time": "2022-03-27T11:31:54.619Z"
   },
   {
    "duration": 4946,
    "start_time": "2022-03-27T11:37:32.345Z"
   },
   {
    "duration": 1666,
    "start_time": "2022-03-27T11:43:37.625Z"
   },
   {
    "duration": 1787,
    "start_time": "2022-03-27T11:44:44.712Z"
   },
   {
    "duration": 1543,
    "start_time": "2022-03-27T11:47:00.255Z"
   },
   {
    "duration": 174,
    "start_time": "2022-03-27T12:00:42.524Z"
   },
   {
    "duration": 370,
    "start_time": "2022-03-27T12:01:24.550Z"
   },
   {
    "duration": 277,
    "start_time": "2022-03-27T12:01:47.627Z"
   },
   {
    "duration": 282,
    "start_time": "2022-03-27T12:01:52.012Z"
   },
   {
    "duration": 295,
    "start_time": "2022-03-27T12:01:56.219Z"
   },
   {
    "duration": 296,
    "start_time": "2022-03-27T12:03:56.715Z"
   },
   {
    "duration": 285,
    "start_time": "2022-03-27T12:04:07.337Z"
   },
   {
    "duration": 262,
    "start_time": "2022-03-27T12:04:34.135Z"
   },
   {
    "duration": 269,
    "start_time": "2022-03-27T12:05:08.057Z"
   },
   {
    "duration": 1038,
    "start_time": "2022-03-27T12:11:12.070Z"
   },
   {
    "duration": 74,
    "start_time": "2022-03-27T19:09:01.606Z"
   },
   {
    "duration": 1954,
    "start_time": "2022-03-27T19:09:06.176Z"
   },
   {
    "duration": 22922,
    "start_time": "2022-03-27T19:09:08.133Z"
   },
   {
    "duration": 12746,
    "start_time": "2022-03-27T19:09:31.058Z"
   },
   {
    "duration": 127,
    "start_time": "2022-03-27T19:09:43.808Z"
   },
   {
    "duration": 705,
    "start_time": "2022-03-27T19:09:43.984Z"
   },
   {
    "duration": 8209,
    "start_time": "2022-03-27T19:09:44.692Z"
   },
   {
    "duration": 3622,
    "start_time": "2022-03-27T19:09:52.904Z"
   },
   {
    "duration": 3146,
    "start_time": "2022-03-27T19:09:56.583Z"
   },
   {
    "duration": 2598,
    "start_time": "2022-03-27T19:09:59.784Z"
   },
   {
    "duration": 4824,
    "start_time": "2022-03-27T19:10:02.384Z"
   },
   {
    "duration": 1904,
    "start_time": "2022-03-27T19:10:07.282Z"
   },
   {
    "duration": 596,
    "start_time": "2022-03-27T19:10:09.188Z"
   },
   {
    "duration": 3564,
    "start_time": "2022-03-27T19:19:37.350Z"
   },
   {
    "duration": 2342,
    "start_time": "2022-03-27T19:19:52.262Z"
   },
   {
    "duration": 7,
    "start_time": "2022-03-27T19:22:34.164Z"
   },
   {
    "duration": 2043,
    "start_time": "2022-03-27T19:28:00.852Z"
   },
   {
    "duration": 521,
    "start_time": "2022-03-27T19:28:53.778Z"
   },
   {
    "duration": 303,
    "start_time": "2022-03-27T19:29:03.600Z"
   },
   {
    "duration": 164,
    "start_time": "2022-03-27T19:29:08.130Z"
   },
   {
    "duration": 1145,
    "start_time": "2022-03-27T19:29:53.668Z"
   },
   {
    "duration": 6451,
    "start_time": "2022-03-27T19:30:43.970Z"
   },
   {
    "duration": 2022,
    "start_time": "2022-03-28T08:43:23.447Z"
   },
   {
    "duration": 18441,
    "start_time": "2022-03-28T08:43:25.471Z"
   },
   {
    "duration": 12092,
    "start_time": "2022-03-28T08:43:43.915Z"
   },
   {
    "duration": 101,
    "start_time": "2022-03-28T08:43:56.010Z"
   },
   {
    "duration": 599,
    "start_time": "2022-03-28T08:43:56.174Z"
   },
   {
    "duration": 8224,
    "start_time": "2022-03-28T08:43:56.775Z"
   },
   {
    "duration": 4486,
    "start_time": "2022-03-28T08:44:05.001Z"
   },
   {
    "duration": 3111,
    "start_time": "2022-03-28T08:44:09.489Z"
   },
   {
    "duration": 2076,
    "start_time": "2022-03-28T08:44:12.603Z"
   },
   {
    "duration": 5308,
    "start_time": "2022-03-28T08:44:14.682Z"
   },
   {
    "duration": 2208,
    "start_time": "2022-03-28T08:44:19.993Z"
   },
   {
    "duration": 685,
    "start_time": "2022-03-28T08:44:22.204Z"
   },
   {
    "duration": 1418,
    "start_time": "2022-03-28T08:44:22.892Z"
   },
   {
    "duration": 7186,
    "start_time": "2022-03-28T08:44:24.374Z"
   },
   {
    "duration": 162,
    "start_time": "2022-03-28T08:50:59.478Z"
   },
   {
    "duration": 5,
    "start_time": "2022-03-28T08:51:31.450Z"
   },
   {
    "duration": 5,
    "start_time": "2022-03-28T08:53:13.822Z"
   },
   {
    "duration": 19,
    "start_time": "2022-03-28T09:04:30.784Z"
   },
   {
    "duration": 1857,
    "start_time": "2022-03-28T09:04:35.440Z"
   },
   {
    "duration": 18186,
    "start_time": "2022-03-28T09:04:37.300Z"
   },
   {
    "duration": 12014,
    "start_time": "2022-03-28T09:04:55.544Z"
   },
   {
    "duration": 107,
    "start_time": "2022-03-28T09:05:07.563Z"
   },
   {
    "duration": 584,
    "start_time": "2022-03-28T09:05:07.673Z"
   },
   {
    "duration": 7800,
    "start_time": "2022-03-28T09:05:08.259Z"
   },
   {
    "duration": 3999,
    "start_time": "2022-03-28T09:05:16.062Z"
   },
   {
    "duration": 2911,
    "start_time": "2022-03-28T09:05:20.064Z"
   },
   {
    "duration": 2372,
    "start_time": "2022-03-28T09:05:22.977Z"
   },
   {
    "duration": 4520,
    "start_time": "2022-03-28T09:05:25.353Z"
   },
   {
    "duration": 1991,
    "start_time": "2022-03-28T09:05:29.875Z"
   },
   {
    "duration": 509,
    "start_time": "2022-03-28T09:05:31.869Z"
   },
   {
    "duration": 1569,
    "start_time": "2022-03-28T09:05:32.380Z"
   },
   {
    "duration": 6137,
    "start_time": "2022-03-28T09:05:33.952Z"
   },
   {
    "duration": 4,
    "start_time": "2022-03-28T09:08:06.663Z"
   },
   {
    "duration": 6,
    "start_time": "2022-03-28T09:08:15.902Z"
   },
   {
    "duration": 217,
    "start_time": "2022-03-28T09:18:32.935Z"
   },
   {
    "duration": 1844,
    "start_time": "2022-03-28T09:20:14.119Z"
   },
   {
    "duration": 26,
    "start_time": "2022-03-28T09:20:45.341Z"
   },
   {
    "duration": 1399,
    "start_time": "2022-03-28T09:21:11.564Z"
   },
   {
    "duration": 483,
    "start_time": "2022-03-28T09:21:31.291Z"
   },
   {
    "duration": 265,
    "start_time": "2022-03-28T09:21:38.331Z"
   },
   {
    "duration": 1132,
    "start_time": "2022-03-28T09:21:59.164Z"
   },
   {
    "duration": 544,
    "start_time": "2022-03-28T09:22:51.308Z"
   },
   {
    "duration": 35,
    "start_time": "2022-03-28T09:25:01.761Z"
   },
   {
    "duration": 432,
    "start_time": "2022-03-28T09:25:22.230Z"
   },
   {
    "duration": 308,
    "start_time": "2022-03-28T09:25:33.483Z"
   },
   {
    "duration": 6,
    "start_time": "2022-03-28T09:26:11.882Z"
   },
   {
    "duration": 250,
    "start_time": "2022-03-28T09:26:49.193Z"
   },
   {
    "duration": 6,
    "start_time": "2022-03-28T09:28:26.186Z"
   },
   {
    "duration": 158,
    "start_time": "2022-03-28T09:29:00.186Z"
   },
   {
    "duration": 205,
    "start_time": "2022-03-28T09:29:24.345Z"
   },
   {
    "duration": 190,
    "start_time": "2022-03-28T09:29:34.110Z"
   },
   {
    "duration": 240,
    "start_time": "2022-03-28T09:31:30.219Z"
   },
   {
    "duration": 197,
    "start_time": "2022-03-28T09:32:00.952Z"
   },
   {
    "duration": 169,
    "start_time": "2022-03-28T09:32:07.033Z"
   },
   {
    "duration": 128,
    "start_time": "2022-03-28T09:53:37.445Z"
   },
   {
    "duration": 316,
    "start_time": "2022-03-28T09:56:35.043Z"
   },
   {
    "duration": 144,
    "start_time": "2022-03-28T09:58:30.305Z"
   },
   {
    "duration": 177,
    "start_time": "2022-03-28T10:01:32.483Z"
   },
   {
    "duration": 13,
    "start_time": "2022-03-28T10:03:25.363Z"
   },
   {
    "duration": 26,
    "start_time": "2022-03-28T10:03:33.263Z"
   },
   {
    "duration": 27,
    "start_time": "2022-03-28T10:03:44.049Z"
   },
   {
    "duration": 439,
    "start_time": "2022-03-28T10:04:53.714Z"
   },
   {
    "duration": 199,
    "start_time": "2022-03-28T10:08:55.160Z"
   },
   {
    "duration": 271,
    "start_time": "2022-03-28T10:26:26.200Z"
   },
   {
    "duration": 1308,
    "start_time": "2022-03-28T10:26:46.368Z"
   },
   {
    "duration": 8,
    "start_time": "2022-03-28T10:27:11.583Z"
   },
   {
    "duration": 5,
    "start_time": "2022-03-28T10:30:07.102Z"
   },
   {
    "duration": 180,
    "start_time": "2022-03-28T10:30:27.488Z"
   },
   {
    "duration": 216,
    "start_time": "2022-03-28T10:30:34.156Z"
   },
   {
    "duration": 184,
    "start_time": "2022-03-28T10:30:41.629Z"
   },
   {
    "duration": 11,
    "start_time": "2022-03-28T10:31:34.733Z"
   },
   {
    "duration": 9,
    "start_time": "2022-03-28T10:32:24.725Z"
   },
   {
    "duration": 4,
    "start_time": "2022-03-28T10:34:38.182Z"
   },
   {
    "duration": 20,
    "start_time": "2022-03-28T10:37:06.774Z"
   },
   {
    "duration": 574,
    "start_time": "2022-03-28T10:37:30.791Z"
   },
   {
    "duration": 189,
    "start_time": "2022-03-28T10:45:11.601Z"
   },
   {
    "duration": 4817,
    "start_time": "2022-03-28T10:45:16.529Z"
   },
   {
    "duration": 2095,
    "start_time": "2022-03-28T13:46:18.976Z"
   },
   {
    "duration": 35304,
    "start_time": "2022-03-28T13:46:21.073Z"
   },
   {
    "duration": 12334,
    "start_time": "2022-03-28T13:46:56.379Z"
   },
   {
    "duration": 119,
    "start_time": "2022-03-28T13:47:08.717Z"
   },
   {
    "duration": 489,
    "start_time": "2022-03-28T13:47:08.838Z"
   },
   {
    "duration": 6774,
    "start_time": "2022-03-28T13:47:09.329Z"
   },
   {
    "duration": 2715,
    "start_time": "2022-03-28T13:47:16.105Z"
   },
   {
    "duration": 1918,
    "start_time": "2022-03-28T13:47:18.822Z"
   },
   {
    "duration": 1822,
    "start_time": "2022-03-28T13:47:20.802Z"
   },
   {
    "duration": 4186,
    "start_time": "2022-03-28T13:47:22.627Z"
   },
   {
    "duration": 1600,
    "start_time": "2022-03-28T13:47:26.815Z"
   },
   {
    "duration": 333,
    "start_time": "2022-03-28T13:47:28.417Z"
   },
   {
    "duration": 931,
    "start_time": "2022-03-28T13:47:28.802Z"
   },
   {
    "duration": 9009,
    "start_time": "2022-03-28T13:47:29.735Z"
   },
   {
    "duration": 4,
    "start_time": "2022-03-28T13:47:38.800Z"
   },
   {
    "duration": 1508,
    "start_time": "2022-03-28T13:47:38.807Z"
   },
   {
    "duration": 300,
    "start_time": "2022-03-28T13:47:40.317Z"
   },
   {
    "duration": 212,
    "start_time": "2022-03-28T13:47:40.620Z"
   },
   {
    "duration": 301,
    "start_time": "2022-03-28T13:47:40.835Z"
   },
   {
    "duration": 80,
    "start_time": "2022-03-28T13:47:41.138Z"
   },
   {
    "duration": 304,
    "start_time": "2022-03-28T13:47:41.221Z"
   },
   {
    "duration": 1004,
    "start_time": "2022-03-28T13:47:41.527Z"
   },
   {
    "duration": 68,
    "start_time": "2022-03-28T13:47:42.534Z"
   },
   {
    "duration": 423,
    "start_time": "2022-03-28T13:47:42.604Z"
   },
   {
    "duration": 2801,
    "start_time": "2022-03-28T13:47:43.029Z"
   },
   {
    "duration": 4,
    "start_time": "2022-03-28T14:27:12.763Z"
   },
   {
    "duration": 19,
    "start_time": "2022-03-28T14:41:13.560Z"
   },
   {
    "duration": 2093,
    "start_time": "2022-03-28T14:41:26.296Z"
   },
   {
    "duration": 20312,
    "start_time": "2022-03-28T14:41:28.392Z"
   },
   {
    "duration": 12199,
    "start_time": "2022-03-28T14:41:48.708Z"
   },
   {
    "duration": 108,
    "start_time": "2022-03-28T14:42:00.912Z"
   },
   {
    "duration": 676,
    "start_time": "2022-03-28T14:42:01.023Z"
   },
   {
    "duration": 8984,
    "start_time": "2022-03-28T14:42:01.702Z"
   },
   {
    "duration": 3420,
    "start_time": "2022-03-28T14:42:10.689Z"
   },
   {
    "duration": 2774,
    "start_time": "2022-03-28T14:42:14.112Z"
   },
   {
    "duration": 2207,
    "start_time": "2022-03-28T14:42:16.889Z"
   },
   {
    "duration": 5384,
    "start_time": "2022-03-28T14:42:19.100Z"
   },
   {
    "duration": 2327,
    "start_time": "2022-03-28T14:42:24.487Z"
   },
   {
    "duration": 569,
    "start_time": "2022-03-28T14:42:26.816Z"
   },
   {
    "duration": 1526,
    "start_time": "2022-03-28T14:42:27.387Z"
   },
   {
    "duration": 5323,
    "start_time": "2022-03-28T14:42:28.915Z"
   },
   {
    "duration": 3,
    "start_time": "2022-03-28T14:42:34.240Z"
   },
   {
    "duration": 1853,
    "start_time": "2022-03-28T14:42:34.245Z"
   },
   {
    "duration": 407,
    "start_time": "2022-03-28T14:42:36.101Z"
   },
   {
    "duration": 279,
    "start_time": "2022-03-28T14:42:36.511Z"
   },
   {
    "duration": 393,
    "start_time": "2022-03-28T14:42:36.793Z"
   },
   {
    "duration": 31,
    "start_time": "2022-03-28T14:42:37.188Z"
   },
   {
    "duration": 355,
    "start_time": "2022-03-28T14:42:37.285Z"
   },
   {
    "duration": 1362,
    "start_time": "2022-03-28T14:42:37.642Z"
   },
   {
    "duration": 11,
    "start_time": "2022-03-28T14:42:39.006Z"
   },
   {
    "duration": 572,
    "start_time": "2022-03-28T14:42:39.020Z"
   },
   {
    "duration": 5212,
    "start_time": "2022-03-28T14:42:39.594Z"
   },
   {
    "duration": 74,
    "start_time": "2022-03-28T14:42:44.809Z"
   },
   {
    "duration": 1581,
    "start_time": "2022-03-28T18:43:14.644Z"
   },
   {
    "duration": 15617,
    "start_time": "2022-03-28T18:43:16.227Z"
   },
   {
    "duration": 8633,
    "start_time": "2022-03-28T18:43:31.901Z"
   },
   {
    "duration": 93,
    "start_time": "2022-03-28T18:43:40.536Z"
   },
   {
    "duration": 474,
    "start_time": "2022-03-28T18:43:40.631Z"
   },
   {
    "duration": 5905,
    "start_time": "2022-03-28T18:43:41.107Z"
   },
   {
    "duration": 2491,
    "start_time": "2022-03-28T18:43:47.014Z"
   },
   {
    "duration": 2011,
    "start_time": "2022-03-28T18:43:49.507Z"
   },
   {
    "duration": 1690,
    "start_time": "2022-03-28T18:43:51.519Z"
   },
   {
    "duration": 3627,
    "start_time": "2022-03-28T18:43:53.213Z"
   },
   {
    "duration": 1432,
    "start_time": "2022-03-28T18:43:56.901Z"
   },
   {
    "duration": 492,
    "start_time": "2022-03-28T18:43:58.336Z"
   },
   {
    "duration": 910,
    "start_time": "2022-03-28T18:43:58.830Z"
   },
   {
    "duration": 9928,
    "start_time": "2022-03-28T18:43:59.742Z"
   },
   {
    "duration": 3,
    "start_time": "2022-03-28T18:44:09.673Z"
   },
   {
    "duration": 1637,
    "start_time": "2022-03-28T18:44:09.678Z"
   },
   {
    "duration": 299,
    "start_time": "2022-03-28T18:44:11.317Z"
   },
   {
    "duration": 245,
    "start_time": "2022-03-28T18:44:11.618Z"
   },
   {
    "duration": 272,
    "start_time": "2022-03-28T18:44:11.865Z"
   },
   {
    "duration": 75,
    "start_time": "2022-03-28T18:44:12.139Z"
   },
   {
    "duration": 317,
    "start_time": "2022-03-28T18:44:12.216Z"
   },
   {
    "duration": 1074,
    "start_time": "2022-03-28T18:44:12.535Z"
   },
   {
    "duration": 7,
    "start_time": "2022-03-28T18:44:13.611Z"
   },
   {
    "duration": 425,
    "start_time": "2022-03-28T18:44:13.620Z"
   },
   {
    "duration": 2916,
    "start_time": "2022-03-28T18:44:14.102Z"
   },
   {
    "duration": 5,
    "start_time": "2022-03-28T18:44:17.020Z"
   },
   {
    "duration": 1892,
    "start_time": "2022-03-28T19:05:52.106Z"
   },
   {
    "duration": 18724,
    "start_time": "2022-03-28T19:05:54.001Z"
   },
   {
    "duration": 12601,
    "start_time": "2022-03-28T19:06:12.783Z"
   },
   {
    "duration": 105,
    "start_time": "2022-03-28T19:06:25.388Z"
   },
   {
    "duration": 692,
    "start_time": "2022-03-28T19:06:25.496Z"
   },
   {
    "duration": 8192,
    "start_time": "2022-03-28T19:06:26.191Z"
   },
   {
    "duration": 3435,
    "start_time": "2022-03-28T19:06:34.386Z"
   },
   {
    "duration": 3202,
    "start_time": "2022-03-28T19:06:37.884Z"
   },
   {
    "duration": 2224,
    "start_time": "2022-03-28T19:06:41.088Z"
   },
   {
    "duration": 4902,
    "start_time": "2022-03-28T19:06:43.316Z"
   },
   {
    "duration": 2039,
    "start_time": "2022-03-28T19:06:48.286Z"
   },
   {
    "duration": 509,
    "start_time": "2022-03-28T19:06:50.383Z"
   },
   {
    "duration": 1302,
    "start_time": "2022-03-28T19:06:50.894Z"
   },
   {
    "duration": 5322,
    "start_time": "2022-03-28T19:06:52.198Z"
   },
   {
    "duration": 4,
    "start_time": "2022-03-28T19:06:57.523Z"
   },
   {
    "duration": 1563,
    "start_time": "2022-03-28T19:06:57.529Z"
   },
   {
    "duration": 328,
    "start_time": "2022-03-28T19:06:59.095Z"
   },
   {
    "duration": 203,
    "start_time": "2022-03-28T19:06:59.425Z"
   },
   {
    "duration": 333,
    "start_time": "2022-03-28T19:06:59.685Z"
   },
   {
    "duration": 80,
    "start_time": "2022-03-28T19:07:00.021Z"
   },
   {
    "duration": 384,
    "start_time": "2022-03-28T19:07:00.103Z"
   },
   {
    "duration": 1326,
    "start_time": "2022-03-28T19:07:00.489Z"
   },
   {
    "duration": 71,
    "start_time": "2022-03-28T19:07:01.817Z"
   },
   {
    "duration": 501,
    "start_time": "2022-03-28T19:07:01.891Z"
   },
   {
    "duration": 4724,
    "start_time": "2022-03-28T19:07:02.395Z"
   },
   {
    "duration": 292,
    "start_time": "2022-03-28T19:07:36.826Z"
   },
   {
    "duration": 2787,
    "start_time": "2022-03-28T19:07:41.138Z"
   },
   {
    "duration": 354,
    "start_time": "2022-03-28T19:09:46.240Z"
   },
   {
    "duration": 1615,
    "start_time": "2022-03-28T19:11:39.621Z"
   },
   {
    "duration": 19384,
    "start_time": "2022-03-28T19:11:41.239Z"
   },
   {
    "duration": 12388,
    "start_time": "2022-03-28T19:12:00.625Z"
   },
   {
    "duration": 196,
    "start_time": "2022-03-28T19:12:13.016Z"
   },
   {
    "duration": 587,
    "start_time": "2022-03-28T19:12:13.214Z"
   },
   {
    "duration": 8207,
    "start_time": "2022-03-28T19:12:13.803Z"
   },
   {
    "duration": 3533,
    "start_time": "2022-03-28T19:12:22.083Z"
   },
   {
    "duration": 2699,
    "start_time": "2022-03-28T19:12:25.619Z"
   },
   {
    "duration": 2119,
    "start_time": "2022-03-28T19:12:28.385Z"
   },
   {
    "duration": 5401,
    "start_time": "2022-03-28T19:12:30.509Z"
   },
   {
    "duration": 2292,
    "start_time": "2022-03-28T19:12:35.913Z"
   },
   {
    "duration": 482,
    "start_time": "2022-03-28T19:12:38.208Z"
   },
   {
    "duration": 1392,
    "start_time": "2022-03-28T19:12:38.693Z"
   },
   {
    "duration": 5268,
    "start_time": "2022-03-28T19:12:40.088Z"
   },
   {
    "duration": 4,
    "start_time": "2022-03-28T19:12:45.359Z"
   },
   {
    "duration": 1420,
    "start_time": "2022-03-28T19:12:45.365Z"
   },
   {
    "duration": 440,
    "start_time": "2022-03-28T19:12:46.788Z"
   },
   {
    "duration": 189,
    "start_time": "2022-03-28T19:12:47.231Z"
   },
   {
    "duration": 461,
    "start_time": "2022-03-28T19:12:47.423Z"
   },
   {
    "duration": 98,
    "start_time": "2022-03-28T19:12:47.886Z"
   },
   {
    "duration": 314,
    "start_time": "2022-03-28T19:12:47.986Z"
   },
   {
    "duration": 1382,
    "start_time": "2022-03-28T19:12:48.301Z"
   },
   {
    "duration": 9,
    "start_time": "2022-03-28T19:12:49.686Z"
   },
   {
    "duration": 514,
    "start_time": "2022-03-28T19:12:49.700Z"
   },
   {
    "duration": 3333,
    "start_time": "2022-03-28T19:13:35.262Z"
   },
   {
    "duration": 968,
    "start_time": "2022-03-28T19:14:20.545Z"
   },
   {
    "duration": 1688,
    "start_time": "2022-03-28T19:14:29.695Z"
   },
   {
    "duration": 1453,
    "start_time": "2022-03-28T19:15:32.160Z"
   },
   {
    "duration": 4772,
    "start_time": "2022-03-28T19:38:37.422Z"
   },
   {
    "duration": 1397,
    "start_time": "2022-03-28T19:41:00.694Z"
   },
   {
    "duration": 160,
    "start_time": "2022-03-28T19:43:45.884Z"
   },
   {
    "duration": 21,
    "start_time": "2022-03-28T19:44:01.691Z"
   },
   {
    "duration": 15,
    "start_time": "2022-03-28T19:44:51.144Z"
   },
   {
    "duration": 6,
    "start_time": "2022-03-28T19:45:06.986Z"
   },
   {
    "duration": 6,
    "start_time": "2022-03-28T20:12:20.954Z"
   },
   {
    "duration": 12,
    "start_time": "2022-03-28T20:19:08.426Z"
   },
   {
    "duration": 782,
    "start_time": "2022-03-28T20:19:40.419Z"
   },
   {
    "duration": 312,
    "start_time": "2022-03-28T20:22:30.628Z"
   },
   {
    "duration": 3011,
    "start_time": "2022-03-28T20:23:00.707Z"
   },
   {
    "duration": 1393,
    "start_time": "2022-03-28T20:23:48.610Z"
   },
   {
    "duration": 1187,
    "start_time": "2022-03-28T20:23:54.012Z"
   },
   {
    "duration": 8345,
    "start_time": "2022-03-28T20:42:22.145Z"
   },
   {
    "duration": 10,
    "start_time": "2022-03-28T20:42:53.936Z"
   },
   {
    "duration": 11,
    "start_time": "2022-03-28T20:43:11.755Z"
   },
   {
    "duration": 1649,
    "start_time": "2022-03-28T20:44:58.880Z"
   },
   {
    "duration": 17988,
    "start_time": "2022-03-28T20:45:00.532Z"
   },
   {
    "duration": 11266,
    "start_time": "2022-03-28T20:45:18.523Z"
   },
   {
    "duration": 102,
    "start_time": "2022-03-28T20:45:29.792Z"
   },
   {
    "duration": 605,
    "start_time": "2022-03-28T20:45:29.898Z"
   },
   {
    "duration": 8189,
    "start_time": "2022-03-28T20:45:30.505Z"
   },
   {
    "duration": 3498,
    "start_time": "2022-03-28T20:45:38.696Z"
   },
   {
    "duration": 3198,
    "start_time": "2022-03-28T20:45:42.197Z"
   },
   {
    "duration": 2197,
    "start_time": "2022-03-28T20:45:45.398Z"
   },
   {
    "duration": 5220,
    "start_time": "2022-03-28T20:45:47.597Z"
   },
   {
    "duration": 2365,
    "start_time": "2022-03-28T20:45:52.820Z"
   },
   {
    "duration": 508,
    "start_time": "2022-03-28T20:45:55.187Z"
   },
   {
    "duration": 1318,
    "start_time": "2022-03-28T20:45:55.697Z"
   },
   {
    "duration": 5218,
    "start_time": "2022-03-28T20:45:57.019Z"
   },
   {
    "duration": 4,
    "start_time": "2022-03-28T20:46:02.240Z"
   },
   {
    "duration": 1641,
    "start_time": "2022-03-28T20:46:02.246Z"
   },
   {
    "duration": 402,
    "start_time": "2022-03-28T20:46:03.889Z"
   },
   {
    "duration": 221,
    "start_time": "2022-03-28T20:46:04.293Z"
   },
   {
    "duration": 467,
    "start_time": "2022-03-28T20:46:04.517Z"
   },
   {
    "duration": 103,
    "start_time": "2022-03-28T20:46:04.986Z"
   },
   {
    "duration": 325,
    "start_time": "2022-03-28T20:46:05.093Z"
   },
   {
    "duration": 1302,
    "start_time": "2022-03-28T20:46:05.420Z"
   },
   {
    "duration": 9,
    "start_time": "2022-03-28T20:46:06.784Z"
   },
   {
    "duration": 496,
    "start_time": "2022-03-28T20:46:06.795Z"
   },
   {
    "duration": 5011,
    "start_time": "2022-03-28T20:46:07.293Z"
   },
   {
    "duration": 17088,
    "start_time": "2022-03-28T20:46:12.306Z"
   },
   {
    "duration": 13,
    "start_time": "2022-03-28T20:46:29.397Z"
   },
   {
    "duration": 1388,
    "start_time": "2022-03-30T09:38:57.957Z"
   },
   {
    "duration": 15288,
    "start_time": "2022-03-30T09:38:59.347Z"
   },
   {
    "duration": 8673,
    "start_time": "2022-03-30T09:39:14.637Z"
   },
   {
    "duration": 36,
    "start_time": "2022-03-30T09:39:23.313Z"
   },
   {
    "duration": 460,
    "start_time": "2022-03-30T09:39:23.351Z"
   },
   {
    "duration": 5717,
    "start_time": "2022-03-30T09:39:23.813Z"
   },
   {
    "duration": 2437,
    "start_time": "2022-03-30T09:40:48.364Z"
   },
   {
    "duration": 105,
    "start_time": "2022-03-30T09:40:57.100Z"
   },
   {
    "duration": 487,
    "start_time": "2022-03-30T09:54:18.565Z"
   },
   {
    "duration": 388,
    "start_time": "2022-03-30T09:54:22.622Z"
   },
   {
    "duration": 12,
    "start_time": "2022-03-30T09:54:30.278Z"
   },
   {
    "duration": 9,
    "start_time": "2022-03-30T09:54:33.672Z"
   },
   {
    "duration": 15,
    "start_time": "2022-03-30T09:54:37.700Z"
   },
   {
    "duration": 289,
    "start_time": "2022-03-30T09:54:47.633Z"
   }
  ],
  "colab": {
   "name": "PySparkSprint.ipynb",
   "provenance": []
  },
  "kernelspec": {
   "display_name": "Python 3 (ipykernel)",
   "language": "python",
   "name": "python3"
  },
  "language_info": {
   "codemirror_mode": {
    "name": "ipython",
    "version": 3
   },
   "file_extension": ".py",
   "mimetype": "text/x-python",
   "name": "python",
   "nbconvert_exporter": "python",
   "pygments_lexer": "ipython3",
   "version": "3.9.5"
  },
  "toc": {
   "base_numbering": 1,
   "nav_menu": {},
   "number_sections": true,
   "sideBar": true,
   "skip_h1_title": true,
   "title_cell": "Table of Contents",
   "title_sidebar": "Contents",
   "toc_cell": false,
   "toc_position": {},
   "toc_section_display": true,
   "toc_window_display": false
  }
 },
 "nbformat": 4,
 "nbformat_minor": 5
}
